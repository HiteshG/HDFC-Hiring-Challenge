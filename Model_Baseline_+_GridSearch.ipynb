{
  "nbformat": 4,
  "nbformat_minor": 0,
  "metadata": {
    "kernelspec": {
      "name": "python3",
      "display_name": "Python 3"
    },
    "language_info": {
      "codemirror_mode": {
        "name": "ipython",
        "version": 3
      },
      "file_extension": ".py",
      "mimetype": "text/x-python",
      "name": "python",
      "nbconvert_exporter": "python",
      "pygments_lexer": "ipython3",
      "version": "3.6.6"
    },
    "toc": {
      "base_numbering": 1,
      "nav_menu": {},
      "number_sections": true,
      "sideBar": true,
      "skip_h1_title": false,
      "title_cell": "Table of Contents",
      "title_sidebar": "Contents",
      "toc_cell": false,
      "toc_position": {},
      "toc_section_display": true,
      "toc_window_display": false
    },
    "varInspector": {
      "cols": {
        "lenName": 16,
        "lenType": 16,
        "lenVar": 40
      },
      "kernels_config": {
        "python": {
          "delete_cmd_postfix": "",
          "delete_cmd_prefix": "del ",
          "library": "var_list.py",
          "varRefreshCmd": "print(var_dic_list())"
        },
        "r": {
          "delete_cmd_postfix": ") ",
          "delete_cmd_prefix": "rm(",
          "library": "var_list.r",
          "varRefreshCmd": "cat(var_dic_list()) "
        }
      },
      "types_to_exclude": [
        "module",
        "function",
        "builtin_function_or_method",
        "instance",
        "_Feature"
      ],
      "window_display": false
    },
    "colab": {
      "name": "Model Baseline + GridSearch.ipynb",
      "provenance": []
    },
    "accelerator": "GPU"
  },
  "cells": [
    {
      "cell_type": "code",
      "metadata": {
        "id": "G_YMxLEY5AEO",
        "colab_type": "code",
        "colab": {}
      },
      "source": [
        "import pandas as pd \n",
        "import numpy as np\n",
        "import matplotlib.pyplot as plt\n",
        "import tqdm\n",
        "plt.style.use('ggplot')\n",
        "import seaborn as sns\n",
        "import matplotlib.pyplot as plt\n",
        "sns.set(style=\"white\")"
      ],
      "execution_count": 0,
      "outputs": []
    },
    {
      "cell_type": "code",
      "metadata": {
        "id": "XG1FzpXi5AEl",
        "colab_type": "code",
        "outputId": "2101055a-853f-4ec5-bb29-5e112a01a75d",
        "colab": {
          "base_uri": "https://localhost:8080/",
          "height": 122
        }
      },
      "source": [
        "from google.colab import drive\n",
        "drive.mount('/content/gdrive')"
      ],
      "execution_count": 0,
      "outputs": [
        {
          "output_type": "stream",
          "text": [
            "Go to this URL in a browser: https://accounts.google.com/o/oauth2/auth?client_id=947318989803-6bn6qk8qdgf4n4g3pfee6491hc0brc4i.apps.googleusercontent.com&redirect_uri=urn%3Aietf%3Awg%3Aoauth%3A2.0%3Aoob&scope=email%20https%3A%2F%2Fwww.googleapis.com%2Fauth%2Fdocs.test%20https%3A%2F%2Fwww.googleapis.com%2Fauth%2Fdrive%20https%3A%2F%2Fwww.googleapis.com%2Fauth%2Fdrive.photos.readonly%20https%3A%2F%2Fwww.googleapis.com%2Fauth%2Fpeopleapi.readonly&response_type=code\n",
            "\n",
            "Enter your authorization code:\n",
            "··········\n",
            "Mounted at /content/gdrive\n"
          ],
          "name": "stdout"
        }
      ]
    },
    {
      "cell_type": "code",
      "metadata": {
        "id": "7gMKTDna5HSS",
        "colab_type": "code",
        "colab": {}
      },
      "source": [
        "mainPath = \"/content/gdrive/My Drive/Hackathons\" "
      ],
      "execution_count": 0,
      "outputs": []
    },
    {
      "cell_type": "code",
      "metadata": {
        "id": "5RXLQZF35LIw",
        "colab_type": "code",
        "colab": {}
      },
      "source": [
        "read_path = \"/HDFC/\""
      ],
      "execution_count": 0,
      "outputs": []
    },
    {
      "cell_type": "code",
      "metadata": {
        "id": "njT7qCZU5MBe",
        "colab_type": "code",
        "colab": {}
      },
      "source": [
        "file = \"Train.csv\""
      ],
      "execution_count": 0,
      "outputs": []
    },
    {
      "cell_type": "code",
      "metadata": {
        "id": "Reyl5Mi45AE0",
        "colab_type": "code",
        "outputId": "c2307de6-9419-4cfa-ded2-90c8634434e9",
        "colab": {
          "base_uri": "https://localhost:8080/",
          "height": 287
        }
      },
      "source": [
        "data = pd.read_csv(mainPath+read_path + file)\n",
        "data.head()"
      ],
      "execution_count": 0,
      "outputs": [
        {
          "output_type": "stream",
          "text": [
            "/usr/local/lib/python3.6/dist-packages/IPython/core/interactiveshell.py:2718: DtypeWarning: Columns (746,835) have mixed types. Specify dtype option on import or set low_memory=False.\n",
            "  interactivity=interactivity, compiler=compiler, result=result)\n"
          ],
          "name": "stderr"
        },
        {
          "output_type": "execute_result",
          "data": {
            "text/html": [
              "<div>\n",
              "<style scoped>\n",
              "    .dataframe tbody tr th:only-of-type {\n",
              "        vertical-align: middle;\n",
              "    }\n",
              "\n",
              "    .dataframe tbody tr th {\n",
              "        vertical-align: top;\n",
              "    }\n",
              "\n",
              "    .dataframe thead th {\n",
              "        text-align: right;\n",
              "    }\n",
              "</style>\n",
              "<table border=\"1\" class=\"dataframe\">\n",
              "  <thead>\n",
              "    <tr style=\"text-align: right;\">\n",
              "      <th></th>\n",
              "      <th>Col1</th>\n",
              "      <th>Col2</th>\n",
              "      <th>Col3</th>\n",
              "      <th>Col4</th>\n",
              "      <th>Col5</th>\n",
              "      <th>Col6</th>\n",
              "      <th>Col7</th>\n",
              "      <th>Col8</th>\n",
              "      <th>Col9</th>\n",
              "      <th>Col10</th>\n",
              "      <th>Col11</th>\n",
              "      <th>Col12</th>\n",
              "      <th>Col13</th>\n",
              "      <th>Col14</th>\n",
              "      <th>Col15</th>\n",
              "      <th>Col16</th>\n",
              "      <th>Col17</th>\n",
              "      <th>Col18</th>\n",
              "      <th>Col19</th>\n",
              "      <th>Col20</th>\n",
              "      <th>Col21</th>\n",
              "      <th>Col22</th>\n",
              "      <th>Col23</th>\n",
              "      <th>Col24</th>\n",
              "      <th>Col25</th>\n",
              "      <th>Col26</th>\n",
              "      <th>Col27</th>\n",
              "      <th>Col28</th>\n",
              "      <th>Col29</th>\n",
              "      <th>Col30</th>\n",
              "      <th>Col31</th>\n",
              "      <th>Col32</th>\n",
              "      <th>Col33</th>\n",
              "      <th>Col34</th>\n",
              "      <th>Col35</th>\n",
              "      <th>Col36</th>\n",
              "      <th>Col37</th>\n",
              "      <th>Col38</th>\n",
              "      <th>Col39</th>\n",
              "      <th>Col40</th>\n",
              "      <th>...</th>\n",
              "      <th>Col2358</th>\n",
              "      <th>Col2359</th>\n",
              "      <th>Col2360</th>\n",
              "      <th>Col2361</th>\n",
              "      <th>Col2362</th>\n",
              "      <th>Col2363</th>\n",
              "      <th>Col2364</th>\n",
              "      <th>Col2365</th>\n",
              "      <th>Col2366</th>\n",
              "      <th>Col2367</th>\n",
              "      <th>Col2368</th>\n",
              "      <th>Col2369</th>\n",
              "      <th>Col2370</th>\n",
              "      <th>Col2371</th>\n",
              "      <th>Col2372</th>\n",
              "      <th>Col2373</th>\n",
              "      <th>Col2374</th>\n",
              "      <th>Col2375</th>\n",
              "      <th>Col2376</th>\n",
              "      <th>Col2377</th>\n",
              "      <th>Col2378</th>\n",
              "      <th>Col2379</th>\n",
              "      <th>Col2380</th>\n",
              "      <th>Col2381</th>\n",
              "      <th>Col2382</th>\n",
              "      <th>Col2383</th>\n",
              "      <th>Col2384</th>\n",
              "      <th>Col2385</th>\n",
              "      <th>Col2386</th>\n",
              "      <th>Col2387</th>\n",
              "      <th>Col2388</th>\n",
              "      <th>Col2389</th>\n",
              "      <th>Col2390</th>\n",
              "      <th>Col2391</th>\n",
              "      <th>Col2392</th>\n",
              "      <th>Col2393</th>\n",
              "      <th>Col2394</th>\n",
              "      <th>Col2395</th>\n",
              "      <th>Col2396</th>\n",
              "      <th>Col2397</th>\n",
              "    </tr>\n",
              "  </thead>\n",
              "  <tbody>\n",
              "    <tr>\n",
              "      <th>0</th>\n",
              "      <td>RIGHGSN</td>\n",
              "      <td>1</td>\n",
              "      <td>1.086711e+04</td>\n",
              "      <td>8.648345e+03</td>\n",
              "      <td>1.576618e+04</td>\n",
              "      <td>2.890466e+04</td>\n",
              "      <td>5.273655e+03</td>\n",
              "      <td>2.346153e+04</td>\n",
              "      <td>1.285597e+04</td>\n",
              "      <td>2.871509e+04</td>\n",
              "      <td>9.114586e+03</td>\n",
              "      <td>3.043078e+04</td>\n",
              "      <td>9.293496</td>\n",
              "      <td>8.570479</td>\n",
              "      <td>10.063117</td>\n",
              "      <td>10.271758</td>\n",
              "      <td>0.548538</td>\n",
              "      <td>0.403366</td>\n",
              "      <td>NaN</td>\n",
              "      <td>NaN</td>\n",
              "      <td>1.486524</td>\n",
              "      <td>1.728324</td>\n",
              "      <td>0.993441</td>\n",
              "      <td>1.297050</td>\n",
              "      <td>0.137398</td>\n",
              "      <td>0.115987</td>\n",
              "      <td>0.260428</td>\n",
              "      <td>1.414214</td>\n",
              "      <td>1</td>\n",
              "      <td>1</td>\n",
              "      <td>1</td>\n",
              "      <td>1</td>\n",
              "      <td>1</td>\n",
              "      <td>1</td>\n",
              "      <td>0</td>\n",
              "      <td>6</td>\n",
              "      <td>NaN</td>\n",
              "      <td>NaN</td>\n",
              "      <td>NaN</td>\n",
              "      <td>NaN</td>\n",
              "      <td>...</td>\n",
              "      <td>0</td>\n",
              "      <td>0</td>\n",
              "      <td>0</td>\n",
              "      <td>0</td>\n",
              "      <td>0</td>\n",
              "      <td>0</td>\n",
              "      <td>0</td>\n",
              "      <td>0</td>\n",
              "      <td>0</td>\n",
              "      <td>0</td>\n",
              "      <td>0</td>\n",
              "      <td>0</td>\n",
              "      <td>0</td>\n",
              "      <td>0</td>\n",
              "      <td>0</td>\n",
              "      <td>0</td>\n",
              "      <td>0</td>\n",
              "      <td>0</td>\n",
              "      <td>0</td>\n",
              "      <td>0</td>\n",
              "      <td>0</td>\n",
              "      <td>0</td>\n",
              "      <td>0</td>\n",
              "      <td>0</td>\n",
              "      <td>0</td>\n",
              "      <td>0</td>\n",
              "      <td>0</td>\n",
              "      <td>0</td>\n",
              "      <td>0</td>\n",
              "      <td>0</td>\n",
              "      <td>0</td>\n",
              "      <td>1</td>\n",
              "      <td>0</td>\n",
              "      <td>1</td>\n",
              "      <td>214.0</td>\n",
              "      <td>214.0</td>\n",
              "      <td>68.0</td>\n",
              "      <td>22.0</td>\n",
              "      <td>22.0</td>\n",
              "      <td>7.0</td>\n",
              "    </tr>\n",
              "    <tr>\n",
              "      <th>1</th>\n",
              "      <td>RIMHI5ZGP</td>\n",
              "      <td>0</td>\n",
              "      <td>2.584312e+05</td>\n",
              "      <td>2.179633e+05</td>\n",
              "      <td>1.866287e+05</td>\n",
              "      <td>1.866287e+05</td>\n",
              "      <td>2.154519e+05</td>\n",
              "      <td>1.923615e+05</td>\n",
              "      <td>1.726538e+05</td>\n",
              "      <td>1.666974e+05</td>\n",
              "      <td>2.013518e+05</td>\n",
              "      <td>1.859404e+05</td>\n",
              "      <td>12.462385</td>\n",
              "      <td>12.280493</td>\n",
              "      <td>12.167132</td>\n",
              "      <td>12.136876</td>\n",
              "      <td>1.167898</td>\n",
              "      <td>2.676398</td>\n",
              "      <td>NaN</td>\n",
              "      <td>NaN</td>\n",
              "      <td>0.792123</td>\n",
              "      <td>0.934556</td>\n",
              "      <td>0.893203</td>\n",
              "      <td>0.966620</td>\n",
              "      <td>0.753892</td>\n",
              "      <td>0.808295</td>\n",
              "      <td>1.414214</td>\n",
              "      <td>NaN</td>\n",
              "      <td>1</td>\n",
              "      <td>1</td>\n",
              "      <td>3</td>\n",
              "      <td>4</td>\n",
              "      <td>4</td>\n",
              "      <td>0</td>\n",
              "      <td>4</td>\n",
              "      <td>5</td>\n",
              "      <td>NaN</td>\n",
              "      <td>NaN</td>\n",
              "      <td>NaN</td>\n",
              "      <td>NaN</td>\n",
              "      <td>...</td>\n",
              "      <td>0</td>\n",
              "      <td>0</td>\n",
              "      <td>0</td>\n",
              "      <td>0</td>\n",
              "      <td>0</td>\n",
              "      <td>0</td>\n",
              "      <td>0</td>\n",
              "      <td>0</td>\n",
              "      <td>0</td>\n",
              "      <td>0</td>\n",
              "      <td>0</td>\n",
              "      <td>0</td>\n",
              "      <td>0</td>\n",
              "      <td>1</td>\n",
              "      <td>0</td>\n",
              "      <td>0</td>\n",
              "      <td>0</td>\n",
              "      <td>0</td>\n",
              "      <td>0</td>\n",
              "      <td>0</td>\n",
              "      <td>0</td>\n",
              "      <td>0</td>\n",
              "      <td>0</td>\n",
              "      <td>0</td>\n",
              "      <td>0</td>\n",
              "      <td>0</td>\n",
              "      <td>0</td>\n",
              "      <td>0</td>\n",
              "      <td>0</td>\n",
              "      <td>0</td>\n",
              "      <td>0</td>\n",
              "      <td>0</td>\n",
              "      <td>0</td>\n",
              "      <td>0</td>\n",
              "      <td>41.0</td>\n",
              "      <td>41.0</td>\n",
              "      <td>38.0</td>\n",
              "      <td>12.0</td>\n",
              "      <td>12.0</td>\n",
              "      <td>11.0</td>\n",
              "    </tr>\n",
              "    <tr>\n",
              "      <th>2</th>\n",
              "      <td>RIHOG1SZU</td>\n",
              "      <td>0</td>\n",
              "      <td>1.459355e+07</td>\n",
              "      <td>1.260060e+07</td>\n",
              "      <td>1.100315e+07</td>\n",
              "      <td>1.010315e+07</td>\n",
              "      <td>1.879882e+07</td>\n",
              "      <td>1.514035e+07</td>\n",
              "      <td>5.320778e+06</td>\n",
              "      <td>6.906324e+06</td>\n",
              "      <td>9.368338e+06</td>\n",
              "      <td>1.113330e+07</td>\n",
              "      <td>16.496090</td>\n",
              "      <td>16.749305</td>\n",
              "      <td>16.532874</td>\n",
              "      <td>16.128357</td>\n",
              "      <td>1.145182</td>\n",
              "      <td>2.203874</td>\n",
              "      <td>NaN</td>\n",
              "      <td>NaN</td>\n",
              "      <td>0.422264</td>\n",
              "      <td>0.498347</td>\n",
              "      <td>0.683582</td>\n",
              "      <td>0.735339</td>\n",
              "      <td>0.808115</td>\n",
              "      <td>0.776910</td>\n",
              "      <td>1.414214</td>\n",
              "      <td>NaN</td>\n",
              "      <td>3</td>\n",
              "      <td>3</td>\n",
              "      <td>4</td>\n",
              "      <td>12</td>\n",
              "      <td>4</td>\n",
              "      <td>0</td>\n",
              "      <td>2</td>\n",
              "      <td>4</td>\n",
              "      <td>NaN</td>\n",
              "      <td>1.0</td>\n",
              "      <td>NaN</td>\n",
              "      <td>NaN</td>\n",
              "      <td>...</td>\n",
              "      <td>1</td>\n",
              "      <td>0</td>\n",
              "      <td>1</td>\n",
              "      <td>0</td>\n",
              "      <td>1</td>\n",
              "      <td>0</td>\n",
              "      <td>0</td>\n",
              "      <td>0</td>\n",
              "      <td>0</td>\n",
              "      <td>0</td>\n",
              "      <td>2</td>\n",
              "      <td>0</td>\n",
              "      <td>1</td>\n",
              "      <td>1</td>\n",
              "      <td>0</td>\n",
              "      <td>0</td>\n",
              "      <td>0</td>\n",
              "      <td>0</td>\n",
              "      <td>0</td>\n",
              "      <td>0</td>\n",
              "      <td>2</td>\n",
              "      <td>0</td>\n",
              "      <td>0</td>\n",
              "      <td>0</td>\n",
              "      <td>0</td>\n",
              "      <td>0</td>\n",
              "      <td>0</td>\n",
              "      <td>0</td>\n",
              "      <td>0</td>\n",
              "      <td>0</td>\n",
              "      <td>0</td>\n",
              "      <td>1</td>\n",
              "      <td>1</td>\n",
              "      <td>0</td>\n",
              "      <td>378.0</td>\n",
              "      <td>378.0</td>\n",
              "      <td>310.0</td>\n",
              "      <td>21.0</td>\n",
              "      <td>21.0</td>\n",
              "      <td>16.0</td>\n",
              "    </tr>\n",
              "    <tr>\n",
              "      <th>3</th>\n",
              "      <td>RIHOLMQWU</td>\n",
              "      <td>0</td>\n",
              "      <td>6.727043e+05</td>\n",
              "      <td>8.181116e+05</td>\n",
              "      <td>6.794893e+05</td>\n",
              "      <td>6.794893e+05</td>\n",
              "      <td>8.257254e+05</td>\n",
              "      <td>7.605803e+05</td>\n",
              "      <td>3.577134e+05</td>\n",
              "      <td>4.236612e+05</td>\n",
              "      <td>4.304848e+05</td>\n",
              "      <td>4.065539e+05</td>\n",
              "      <td>13.419061</td>\n",
              "      <td>13.624018</td>\n",
              "      <td>13.541837</td>\n",
              "      <td>13.429097</td>\n",
              "      <td>1.204010</td>\n",
              "      <td>0.536304</td>\n",
              "      <td>NaN</td>\n",
              "      <td>NaN</td>\n",
              "      <td>0.437243</td>\n",
              "      <td>0.521341</td>\n",
              "      <td>0.623499</td>\n",
              "      <td>0.534531</td>\n",
              "      <td>-0.125829</td>\n",
              "      <td>0.388830</td>\n",
              "      <td>-1.414214</td>\n",
              "      <td>NaN</td>\n",
              "      <td>2</td>\n",
              "      <td>2</td>\n",
              "      <td>2</td>\n",
              "      <td>24</td>\n",
              "      <td>1</td>\n",
              "      <td>0</td>\n",
              "      <td>1</td>\n",
              "      <td>4</td>\n",
              "      <td>NaN</td>\n",
              "      <td>NaN</td>\n",
              "      <td>NaN</td>\n",
              "      <td>NaN</td>\n",
              "      <td>...</td>\n",
              "      <td>0</td>\n",
              "      <td>0</td>\n",
              "      <td>0</td>\n",
              "      <td>0</td>\n",
              "      <td>0</td>\n",
              "      <td>0</td>\n",
              "      <td>0</td>\n",
              "      <td>0</td>\n",
              "      <td>0</td>\n",
              "      <td>1</td>\n",
              "      <td>2</td>\n",
              "      <td>0</td>\n",
              "      <td>1</td>\n",
              "      <td>2</td>\n",
              "      <td>0</td>\n",
              "      <td>0</td>\n",
              "      <td>0</td>\n",
              "      <td>0</td>\n",
              "      <td>0</td>\n",
              "      <td>1</td>\n",
              "      <td>2</td>\n",
              "      <td>0</td>\n",
              "      <td>0</td>\n",
              "      <td>0</td>\n",
              "      <td>0</td>\n",
              "      <td>0</td>\n",
              "      <td>1</td>\n",
              "      <td>2</td>\n",
              "      <td>0</td>\n",
              "      <td>0</td>\n",
              "      <td>0</td>\n",
              "      <td>0</td>\n",
              "      <td>0</td>\n",
              "      <td>0</td>\n",
              "      <td>702.0</td>\n",
              "      <td>702.0</td>\n",
              "      <td>644.0</td>\n",
              "      <td>951.0</td>\n",
              "      <td>951.0</td>\n",
              "      <td>743.0</td>\n",
              "    </tr>\n",
              "    <tr>\n",
              "      <th>4</th>\n",
              "      <td>RIHO584ET</td>\n",
              "      <td>0</td>\n",
              "      <td>-1.218742e+06</td>\n",
              "      <td>-3.005361e+06</td>\n",
              "      <td>-1.666241e+05</td>\n",
              "      <td>-2.403574e+06</td>\n",
              "      <td>2.583183e+06</td>\n",
              "      <td>2.086546e+06</td>\n",
              "      <td>5.938358e+06</td>\n",
              "      <td>5.446532e+06</td>\n",
              "      <td>3.473444e+06</td>\n",
              "      <td>3.262168e+06</td>\n",
              "      <td>NaN</td>\n",
              "      <td>14.764533</td>\n",
              "      <td>14.551021</td>\n",
              "      <td>NaN</td>\n",
              "      <td>NaN</td>\n",
              "      <td>NaN</td>\n",
              "      <td>NaN</td>\n",
              "      <td>NaN</td>\n",
              "      <td>NaN</td>\n",
              "      <td>1.344637</td>\n",
              "      <td>NaN</td>\n",
              "      <td>1.563430</td>\n",
              "      <td>-0.113101</td>\n",
              "      <td>0.617486</td>\n",
              "      <td>1.414214</td>\n",
              "      <td>NaN</td>\n",
              "      <td>4</td>\n",
              "      <td>3</td>\n",
              "      <td>4</td>\n",
              "      <td>68</td>\n",
              "      <td>8</td>\n",
              "      <td>0</td>\n",
              "      <td>2</td>\n",
              "      <td>4</td>\n",
              "      <td>NaN</td>\n",
              "      <td>3.0</td>\n",
              "      <td>NaN</td>\n",
              "      <td>NaN</td>\n",
              "      <td>...</td>\n",
              "      <td>0</td>\n",
              "      <td>0</td>\n",
              "      <td>0</td>\n",
              "      <td>0</td>\n",
              "      <td>0</td>\n",
              "      <td>0</td>\n",
              "      <td>2</td>\n",
              "      <td>1</td>\n",
              "      <td>0</td>\n",
              "      <td>0</td>\n",
              "      <td>0</td>\n",
              "      <td>0</td>\n",
              "      <td>2</td>\n",
              "      <td>1</td>\n",
              "      <td>2</td>\n",
              "      <td>1</td>\n",
              "      <td>0</td>\n",
              "      <td>0</td>\n",
              "      <td>0</td>\n",
              "      <td>0</td>\n",
              "      <td>0</td>\n",
              "      <td>0</td>\n",
              "      <td>0</td>\n",
              "      <td>0</td>\n",
              "      <td>0</td>\n",
              "      <td>0</td>\n",
              "      <td>0</td>\n",
              "      <td>0</td>\n",
              "      <td>2</td>\n",
              "      <td>0</td>\n",
              "      <td>0</td>\n",
              "      <td>0</td>\n",
              "      <td>0</td>\n",
              "      <td>0</td>\n",
              "      <td>1305.0</td>\n",
              "      <td>1305.0</td>\n",
              "      <td>1211.0</td>\n",
              "      <td>2205.0</td>\n",
              "      <td>2205.0</td>\n",
              "      <td>1831.0</td>\n",
              "    </tr>\n",
              "  </tbody>\n",
              "</table>\n",
              "<p>5 rows × 2395 columns</p>\n",
              "</div>"
            ],
            "text/plain": [
              "        Col1  Col2          Col3  ...  Col2395  Col2396  Col2397\n",
              "0    RIGHGSN     1  1.086711e+04  ...     22.0     22.0      7.0\n",
              "1  RIMHI5ZGP     0  2.584312e+05  ...     12.0     12.0     11.0\n",
              "2  RIHOG1SZU     0  1.459355e+07  ...     21.0     21.0     16.0\n",
              "3  RIHOLMQWU     0  6.727043e+05  ...    951.0    951.0    743.0\n",
              "4  RIHO584ET     0 -1.218742e+06  ...   2205.0   2205.0   1831.0\n",
              "\n",
              "[5 rows x 2395 columns]"
            ]
          },
          "metadata": {
            "tags": []
          },
          "execution_count": 6
        }
      ]
    },
    {
      "cell_type": "code",
      "metadata": {
        "id": "SoXUohbI5AFG",
        "colab_type": "code",
        "outputId": "0d2c9a15-2e5e-4286-a901-aeb86746abe3",
        "colab": {
          "base_uri": "https://localhost:8080/",
          "height": 34
        }
      },
      "source": [
        "data.shape"
      ],
      "execution_count": 0,
      "outputs": [
        {
          "output_type": "execute_result",
          "data": {
            "text/plain": [
              "(17521, 2395)"
            ]
          },
          "metadata": {
            "tags": []
          },
          "execution_count": 7
        }
      ]
    },
    {
      "cell_type": "code",
      "metadata": {
        "id": "ukFDglSG5AFe",
        "colab_type": "code",
        "outputId": "1b0fb90e-8b41-446d-a3fc-3e02af63c25f",
        "colab": {
          "base_uri": "https://localhost:8080/",
          "height": 102
        }
      },
      "source": [
        "data.info()"
      ],
      "execution_count": 0,
      "outputs": [
        {
          "output_type": "stream",
          "text": [
            "<class 'pandas.core.frame.DataFrame'>\n",
            "RangeIndex: 17521 entries, 0 to 17520\n",
            "Columns: 2395 entries, Col1 to Col2397\n",
            "dtypes: float64(844), int64(1548), object(3)\n",
            "memory usage: 320.2+ MB\n"
          ],
          "name": "stdout"
        }
      ]
    },
    {
      "cell_type": "markdown",
      "metadata": {
        "id": "ut5Lv53yfrb3",
        "colab_type": "text"
      },
      "source": [
        "# PreProcessing"
      ]
    },
    {
      "cell_type": "code",
      "metadata": {
        "id": "l4B1M5ryL_Fl",
        "colab_type": "code",
        "outputId": "af836ae2-5425-483f-de4a-2a3849a2f0bc",
        "colab": {
          "base_uri": "https://localhost:8080/",
          "height": 1000
        }
      },
      "source": [
        "data.isna().sum().sort_values()[2165:]"
      ],
      "execution_count": 0,
      "outputs": [
        {
          "output_type": "execute_result",
          "data": {
            "text/plain": [
              "Col458     6527\n",
              "Col911     6783\n",
              "Col102     7051\n",
              "Col116     7432\n",
              "Col103     7531\n",
              "Col117     7646\n",
              "Col104     8012\n",
              "Col118     8434\n",
              "Col97      9356\n",
              "Col111     9410\n",
              "Col105     9718\n",
              "Col119     9841\n",
              "Col698    10713\n",
              "Col787    10732\n",
              "Col770    11050\n",
              "Col859    11050\n",
              "Col701    11413\n",
              "Col690    11413\n",
              "Col790    11428\n",
              "Col779    11428\n",
              "Col751    11485\n",
              "Col767    11485\n",
              "Col840    11515\n",
              "Col856    11515\n",
              "Col695    11823\n",
              "Col685    11823\n",
              "Col784    11838\n",
              "Col774    11838\n",
              "Col760    11955\n",
              "Col849    11970\n",
              "          ...  \n",
              "Col352    16895\n",
              "Col747    16895\n",
              "Col373    16895\n",
              "Col836    16897\n",
              "Col570    16897\n",
              "Col549    16897\n",
              "Col920    16902\n",
              "Col925    16905\n",
              "Col348    16965\n",
              "Col743    16965\n",
              "Col369    16965\n",
              "Col545    16968\n",
              "Col566    16968\n",
              "Col832    16968\n",
              "Col338    16979\n",
              "Col733    16979\n",
              "Col359    16979\n",
              "Col535    16985\n",
              "Col822    16985\n",
              "Col556    16985\n",
              "Col38     17035\n",
              "Col40     17046\n",
              "Col930    17127\n",
              "Col171    17411\n",
              "Col463    17514\n",
              "Col266    17514\n",
              "Col288    17514\n",
              "Col724    17514\n",
              "Col813    17514\n",
              "Col485    17514\n",
              "Length: 230, dtype: int64"
            ]
          },
          "metadata": {
            "tags": []
          },
          "execution_count": 9
        }
      ]
    },
    {
      "cell_type": "code",
      "metadata": {
        "id": "ZuJqp4b9MjK9",
        "colab_type": "code",
        "outputId": "064bacce-cf2f-4ae3-bdc3-3005121d0b69",
        "colab": {
          "base_uri": "https://localhost:8080/",
          "height": 34
        }
      },
      "source": [
        "# Thumb atleast 70 of data points should be there\n",
        "6527/17514"
      ],
      "execution_count": 0,
      "outputs": [
        {
          "output_type": "execute_result",
          "data": {
            "text/plain": [
              "0.372673289939477"
            ]
          },
          "metadata": {
            "tags": []
          },
          "execution_count": 10
        }
      ]
    },
    {
      "cell_type": "code",
      "metadata": {
        "id": "zI0bKdivfnLZ",
        "colab_type": "code",
        "colab": {}
      },
      "source": [
        "no = data.isna().sum().sort_values()[2166:].index"
      ],
      "execution_count": 0,
      "outputs": []
    },
    {
      "cell_type": "code",
      "metadata": {
        "id": "d33Nh22BfwCD",
        "colab_type": "code",
        "outputId": "f0356c81-1aa5-49b5-8ef1-819d20df4286",
        "colab": {
          "base_uri": "https://localhost:8080/",
          "height": 54
        }
      },
      "source": [
        "remove_col2 = []\n",
        "for i in data.columns:\n",
        "    if i not in no:\n",
        "        remove_col2.append(i)\n",
        "print(remove_col2)"
      ],
      "execution_count": 0,
      "outputs": [
        {
          "output_type": "stream",
          "text": [
            "['Col1', 'Col2', 'Col3', 'Col4', 'Col5', 'Col6', 'Col7', 'Col8', 'Col9', 'Col10', 'Col11', 'Col12', 'Col13', 'Col14', 'Col15', 'Col16', 'Col17', 'Col18', 'Col21', 'Col22', 'Col23', 'Col24', 'Col25', 'Col26', 'Col27', 'Col29', 'Col30', 'Col31', 'Col32', 'Col33', 'Col34', 'Col35', 'Col36', 'Col42', 'Col43', 'Col44', 'Col45', 'Col46', 'Col47', 'Col48', 'Col49', 'Col50', 'Col51', 'Col52', 'Col53', 'Col54', 'Col55', 'Col56', 'Col57', 'Col58', 'Col59', 'Col60', 'Col61', 'Col62', 'Col63', 'Col64', 'Col65', 'Col66', 'Col67', 'Col68', 'Col69', 'Col70', 'Col71', 'Col72', 'Col73', 'Col74', 'Col75', 'Col76', 'Col77', 'Col78', 'Col79', 'Col80', 'Col81', 'Col82', 'Col83', 'Col84', 'Col85', 'Col86', 'Col87', 'Col88', 'Col89', 'Col90', 'Col91', 'Col92', 'Col93', 'Col94', 'Col95', 'Col96', 'Col98', 'Col100', 'Col101', 'Col106', 'Col107', 'Col108', 'Col109', 'Col110', 'Col112', 'Col114', 'Col115', 'Col120', 'Col121', 'Col122', 'Col123', 'Col124', 'Col125', 'Col126', 'Col127', 'Col128', 'Col129', 'Col130', 'Col131', 'Col132', 'Col133', 'Col134', 'Col135', 'Col136', 'Col137', 'Col160', 'Col161', 'Col162', 'Col163', 'Col164', 'Col165', 'Col166', 'Col167', 'Col168', 'Col169', 'Col170', 'Col172', 'Col173', 'Col174', 'Col175', 'Col176', 'Col177', 'Col178', 'Col179', 'Col180', 'Col181', 'Col182', 'Col183', 'Col184', 'Col186', 'Col187', 'Col188', 'Col189', 'Col190', 'Col191', 'Col192', 'Col193', 'Col194', 'Col195', 'Col196', 'Col197', 'Col198', 'Col199', 'Col200', 'Col201', 'Col202', 'Col203', 'Col204', 'Col205', 'Col206', 'Col207', 'Col208', 'Col209', 'Col210', 'Col211', 'Col212', 'Col213', 'Col214', 'Col215', 'Col216', 'Col217', 'Col218', 'Col219', 'Col220', 'Col221', 'Col222', 'Col223', 'Col224', 'Col225', 'Col226', 'Col227', 'Col228', 'Col229', 'Col230', 'Col231', 'Col232', 'Col233', 'Col234', 'Col235', 'Col236', 'Col237', 'Col238', 'Col239', 'Col240', 'Col241', 'Col242', 'Col243', 'Col244', 'Col245', 'Col246', 'Col247', 'Col248', 'Col250', 'Col251', 'Col255', 'Col256', 'Col257', 'Col258', 'Col260', 'Col261', 'Col264', 'Col267', 'Col268', 'Col269', 'Col270', 'Col272', 'Col273', 'Col277', 'Col278', 'Col279', 'Col280', 'Col282', 'Col283', 'Col286', 'Col289', 'Col290', 'Col291', 'Col292', 'Col293', 'Col294', 'Col295', 'Col296', 'Col297', 'Col298', 'Col299', 'Col300', 'Col301', 'Col302', 'Col303', 'Col304', 'Col305', 'Col306', 'Col307', 'Col308', 'Col309', 'Col310', 'Col311', 'Col312', 'Col313', 'Col314', 'Col315', 'Col316', 'Col317', 'Col318', 'Col319', 'Col320', 'Col321', 'Col322', 'Col323', 'Col324', 'Col325', 'Col326', 'Col327', 'Col328', 'Col329', 'Col330', 'Col331', 'Col332', 'Col333', 'Col334', 'Col337', 'Col341', 'Col345', 'Col346', 'Col349', 'Col350', 'Col354', 'Col355', 'Col358', 'Col362', 'Col366', 'Col367', 'Col370', 'Col371', 'Col376', 'Col377', 'Col378', 'Col379', 'Col380', 'Col381', 'Col383', 'Col384', 'Col385', 'Col386', 'Col387', 'Col388', 'Col389', 'Col390', 'Col391', 'Col392', 'Col393', 'Col394', 'Col395', 'Col396', 'Col397', 'Col398', 'Col399', 'Col400', 'Col401', 'Col402', 'Col403', 'Col404', 'Col405', 'Col406', 'Col407', 'Col408', 'Col409', 'Col410', 'Col411', 'Col412', 'Col413', 'Col414', 'Col415', 'Col416', 'Col417', 'Col418', 'Col419', 'Col420', 'Col421', 'Col422', 'Col423', 'Col424', 'Col425', 'Col426', 'Col427', 'Col428', 'Col429', 'Col430', 'Col431', 'Col432', 'Col433', 'Col434', 'Col435', 'Col436', 'Col437', 'Col438', 'Col439', 'Col440', 'Col441', 'Col442', 'Col443', 'Col444', 'Col445', 'Col447', 'Col448', 'Col452', 'Col453', 'Col454', 'Col455', 'Col457', 'Col458', 'Col461', 'Col464', 'Col465', 'Col466', 'Col467', 'Col469', 'Col470', 'Col474', 'Col475', 'Col476', 'Col477', 'Col479', 'Col480', 'Col483', 'Col486', 'Col487', 'Col488', 'Col489', 'Col490', 'Col491', 'Col492', 'Col493', 'Col494', 'Col495', 'Col496', 'Col497', 'Col498', 'Col499', 'Col500', 'Col501', 'Col502', 'Col503', 'Col504', 'Col505', 'Col506', 'Col507', 'Col508', 'Col509', 'Col510', 'Col511', 'Col512', 'Col513', 'Col514', 'Col515', 'Col516', 'Col517', 'Col518', 'Col519', 'Col520', 'Col521', 'Col522', 'Col523', 'Col524', 'Col525', 'Col526', 'Col527', 'Col528', 'Col529', 'Col530', 'Col531', 'Col534', 'Col538', 'Col542', 'Col543', 'Col546', 'Col547', 'Col551', 'Col552', 'Col555', 'Col559', 'Col563', 'Col564', 'Col567', 'Col568', 'Col573', 'Col574', 'Col575', 'Col576', 'Col577', 'Col578', 'Col579', 'Col580', 'Col581', 'Col582', 'Col583', 'Col584', 'Col585', 'Col586', 'Col587', 'Col588', 'Col589', 'Col590', 'Col591', 'Col592', 'Col593', 'Col594', 'Col595', 'Col596', 'Col597', 'Col598', 'Col599', 'Col600', 'Col601', 'Col602', 'Col603', 'Col604', 'Col605', 'Col606', 'Col607', 'Col608', 'Col609', 'Col610', 'Col611', 'Col612', 'Col613', 'Col614', 'Col615', 'Col616', 'Col617', 'Col618', 'Col619', 'Col620', 'Col621', 'Col622', 'Col623', 'Col624', 'Col625', 'Col626', 'Col627', 'Col628', 'Col629', 'Col630', 'Col631', 'Col632', 'Col633', 'Col634', 'Col635', 'Col636', 'Col637', 'Col638', 'Col639', 'Col640', 'Col641', 'Col642', 'Col643', 'Col644', 'Col645', 'Col646', 'Col647', 'Col648', 'Col649', 'Col650', 'Col651', 'Col652', 'Col653', 'Col654', 'Col655', 'Col656', 'Col657', 'Col658', 'Col659', 'Col660', 'Col661', 'Col662', 'Col663', 'Col664', 'Col665', 'Col666', 'Col667', 'Col668', 'Col669', 'Col670', 'Col671', 'Col672', 'Col673', 'Col674', 'Col675', 'Col676', 'Col677', 'Col678', 'Col679', 'Col680', 'Col681', 'Col682', 'Col683', 'Col684', 'Col686', 'Col687', 'Col691', 'Col692', 'Col693', 'Col694', 'Col696', 'Col697', 'Col700', 'Col703', 'Col704', 'Col705', 'Col706', 'Col708', 'Col709', 'Col713', 'Col714', 'Col715', 'Col716', 'Col718', 'Col719', 'Col722', 'Col725', 'Col726', 'Col727', 'Col728', 'Col729', 'Col732', 'Col736', 'Col740', 'Col741', 'Col744', 'Col745', 'Col749', 'Col750', 'Col753', 'Col757', 'Col761', 'Col762', 'Col765', 'Col766', 'Col771', 'Col772', 'Col773', 'Col775', 'Col776', 'Col780', 'Col781', 'Col782', 'Col783', 'Col785', 'Col786', 'Col789', 'Col792', 'Col793', 'Col794', 'Col795', 'Col797', 'Col798', 'Col802', 'Col803', 'Col804', 'Col805', 'Col807', 'Col808', 'Col811', 'Col814', 'Col815', 'Col816', 'Col817', 'Col818', 'Col821', 'Col825', 'Col829', 'Col830', 'Col833', 'Col834', 'Col838', 'Col839', 'Col842', 'Col846', 'Col850', 'Col851', 'Col854', 'Col855', 'Col860', 'Col861', 'Col862', 'Col863', 'Col864', 'Col865', 'Col866', 'Col867', 'Col868', 'Col869', 'Col870', 'Col871', 'Col872', 'Col873', 'Col874', 'Col875', 'Col876', 'Col877', 'Col878', 'Col879', 'Col880', 'Col881', 'Col882', 'Col883', 'Col884', 'Col885', 'Col886', 'Col887', 'Col888', 'Col889', 'Col890', 'Col891', 'Col892', 'Col893', 'Col894', 'Col895', 'Col896', 'Col897', 'Col898', 'Col899', 'Col900', 'Col901', 'Col902', 'Col903', 'Col904', 'Col905', 'Col906', 'Col907', 'Col908', 'Col909', 'Col910', 'Col912', 'Col913', 'Col914', 'Col915', 'Col916', 'Col917', 'Col918', 'Col919', 'Col921', 'Col922', 'Col923', 'Col924', 'Col926', 'Col927', 'Col928', 'Col929', 'Col931', 'Col932', 'Col933', 'Col934', 'Col935', 'Col936', 'Col937', 'Col938', 'Col939', 'Col940', 'Col941', 'Col942', 'Col943', 'Col944', 'Col945', 'Col946', 'Col947', 'Col948', 'Col949', 'Col950', 'Col951', 'Col952', 'Col953', 'Col954', 'Col955', 'Col956', 'Col957', 'Col958', 'Col959', 'Col960', 'Col961', 'Col962', 'Col963', 'Col964', 'Col965', 'Col966', 'Col967', 'Col968', 'Col969', 'Col970', 'Col971', 'Col972', 'Col973', 'Col974', 'Col975', 'Col976', 'Col977', 'Col978', 'Col979', 'Col980', 'Col981', 'Col982', 'Col983', 'Col984', 'Col985', 'Col986', 'Col987', 'Col988', 'Col989', 'Col990', 'Col991', 'Col992', 'Col993', 'Col994', 'Col995', 'Col996', 'Col997', 'Col998', 'Col999', 'Col1000', 'Col1001', 'Col1002', 'Col1003', 'Col1004', 'Col1005', 'Col1006', 'Col1007', 'Col1008', 'Col1009', 'Col1010', 'Col1011', 'Col1012', 'Col1013', 'Col1014', 'Col1015', 'Col1016', 'Col1017', 'Col1018', 'Col1019', 'Col1020', 'Col1021', 'Col1022', 'Col1023', 'Col1024', 'Col1025', 'Col1026', 'Col1027', 'Col1028', 'Col1029', 'Col1030', 'Col1031', 'Col1032', 'Col1033', 'Col1034', 'Col1035', 'Col1036', 'Col1037', 'Col1038', 'Col1039', 'Col1040', 'Col1041', 'Col1042', 'Col1043', 'Col1044', 'Col1045', 'Col1046', 'Col1047', 'Col1048', 'Col1049', 'Col1050', 'Col1051', 'Col1052', 'Col1053', 'Col1054', 'Col1055', 'Col1056', 'Col1057', 'Col1058', 'Col1059', 'Col1060', 'Col1061', 'Col1062', 'Col1063', 'Col1064', 'Col1065', 'Col1066', 'Col1067', 'Col1068', 'Col1069', 'Col1070', 'Col1071', 'Col1072', 'Col1073', 'Col1074', 'Col1075', 'Col1076', 'Col1077', 'Col1078', 'Col1079', 'Col1080', 'Col1081', 'Col1082', 'Col1083', 'Col1084', 'Col1085', 'Col1086', 'Col1087', 'Col1088', 'Col1089', 'Col1090', 'Col1091', 'Col1092', 'Col1093', 'Col1094', 'Col1095', 'Col1096', 'Col1097', 'Col1098', 'Col1099', 'Col1100', 'Col1101', 'Col1102', 'Col1103', 'Col1104', 'Col1105', 'Col1106', 'Col1107', 'Col1108', 'Col1109', 'Col1110', 'Col1111', 'Col1112', 'Col1113', 'Col1114', 'Col1115', 'Col1116', 'Col1117', 'Col1118', 'Col1119', 'Col1120', 'Col1121', 'Col1122', 'Col1123', 'Col1124', 'Col1125', 'Col1126', 'Col1127', 'Col1128', 'Col1129', 'Col1130', 'Col1131', 'Col1132', 'Col1133', 'Col1134', 'Col1135', 'Col1136', 'Col1137', 'Col1138', 'Col1139', 'Col1140', 'Col1141', 'Col1142', 'Col1143', 'Col1144', 'Col1145', 'Col1146', 'Col1147', 'Col1148', 'Col1149', 'Col1150', 'Col1151', 'Col1152', 'Col1153', 'Col1154', 'Col1155', 'Col1156', 'Col1157', 'Col1158', 'Col1159', 'Col1160', 'Col1161', 'Col1162', 'Col1163', 'Col1164', 'Col1165', 'Col1166', 'Col1167', 'Col1168', 'Col1169', 'Col1170', 'Col1171', 'Col1172', 'Col1173', 'Col1174', 'Col1175', 'Col1176', 'Col1177', 'Col1178', 'Col1179', 'Col1180', 'Col1181', 'Col1182', 'Col1183', 'Col1184', 'Col1185', 'Col1186', 'Col1187', 'Col1188', 'Col1189', 'Col1190', 'Col1191', 'Col1192', 'Col1193', 'Col1194', 'Col1195', 'Col1196', 'Col1197', 'Col1198', 'Col1199', 'Col1200', 'Col1201', 'Col1202', 'Col1203', 'Col1204', 'Col1205', 'Col1206', 'Col1207', 'Col1208', 'Col1209', 'Col1210', 'Col1211', 'Col1212', 'Col1213', 'Col1214', 'Col1215', 'Col1216', 'Col1217', 'Col1218', 'Col1219', 'Col1220', 'Col1221', 'Col1222', 'Col1223', 'Col1224', 'Col1225', 'Col1226', 'Col1227', 'Col1228', 'Col1229', 'Col1230', 'Col1231', 'Col1232', 'Col1233', 'Col1234', 'Col1235', 'Col1236', 'Col1237', 'Col1238', 'Col1239', 'Col1240', 'Col1241', 'Col1242', 'Col1243', 'Col1244', 'Col1245', 'Col1246', 'Col1247', 'Col1248', 'Col1249', 'Col1250', 'Col1251', 'Col1252', 'Col1253', 'Col1254', 'Col1255', 'Col1256', 'Col1257', 'Col1258', 'Col1259', 'Col1260', 'Col1261', 'Col1262', 'Col1263', 'Col1264', 'Col1265', 'Col1266', 'Col1267', 'Col1268', 'Col1269', 'Col1270', 'Col1271', 'Col1272', 'Col1273', 'Col1274', 'Col1275', 'Col1276', 'Col1277', 'Col1278', 'Col1279', 'Col1280', 'Col1281', 'Col1282', 'Col1283', 'Col1284', 'Col1285', 'Col1286', 'Col1287', 'Col1288', 'Col1289', 'Col1290', 'Col1291', 'Col1292', 'Col1293', 'Col1294', 'Col1295', 'Col1296', 'Col1297', 'Col1298', 'Col1299', 'Col1300', 'Col1301', 'Col1302', 'Col1303', 'Col1304', 'Col1305', 'Col1306', 'Col1307', 'Col1308', 'Col1309', 'Col1310', 'Col1311', 'Col1312', 'Col1313', 'Col1314', 'Col1315', 'Col1316', 'Col1317', 'Col1318', 'Col1319', 'Col1320', 'Col1321', 'Col1322', 'Col1323', 'Col1324', 'Col1325', 'Col1326', 'Col1327', 'Col1328', 'Col1329', 'Col1330', 'Col1331', 'Col1332', 'Col1333', 'Col1334', 'Col1335', 'Col1336', 'Col1337', 'Col1338', 'Col1339', 'Col1340', 'Col1341', 'Col1342', 'Col1343', 'Col1344', 'Col1345', 'Col1346', 'Col1347', 'Col1348', 'Col1349', 'Col1350', 'Col1351', 'Col1352', 'Col1353', 'Col1354', 'Col1355', 'Col1356', 'Col1357', 'Col1358', 'Col1359', 'Col1360', 'Col1361', 'Col1362', 'Col1363', 'Col1364', 'Col1365', 'Col1366', 'Col1367', 'Col1368', 'Col1369', 'Col1370', 'Col1371', 'Col1372', 'Col1373', 'Col1374', 'Col1375', 'Col1376', 'Col1377', 'Col1378', 'Col1379', 'Col1380', 'Col1381', 'Col1382', 'Col1383', 'Col1384', 'Col1385', 'Col1386', 'Col1387', 'Col1388', 'Col1389', 'Col1390', 'Col1391', 'Col1392', 'Col1393', 'Col1394', 'Col1395', 'Col1396', 'Col1397', 'Col1398', 'Col1399', 'Col1400', 'Col1401', 'Col1402', 'Col1403', 'Col1404', 'Col1405', 'Col1406', 'Col1407', 'Col1408', 'Col1409', 'Col1410', 'Col1411', 'Col1412', 'Col1413', 'Col1414', 'Col1415', 'Col1416', 'Col1417', 'Col1418', 'Col1419', 'Col1420', 'Col1421', 'Col1422', 'Col1423', 'Col1424', 'Col1425', 'Col1426', 'Col1427', 'Col1428', 'Col1429', 'Col1430', 'Col1431', 'Col1432', 'Col1433', 'Col1434', 'Col1435', 'Col1436', 'Col1437', 'Col1438', 'Col1439', 'Col1440', 'Col1441', 'Col1442', 'Col1443', 'Col1444', 'Col1445', 'Col1446', 'Col1447', 'Col1448', 'Col1449', 'Col1450', 'Col1451', 'Col1452', 'Col1453', 'Col1454', 'Col1455', 'Col1456', 'Col1457', 'Col1458', 'Col1459', 'Col1460', 'Col1461', 'Col1462', 'Col1463', 'Col1464', 'Col1465', 'Col1466', 'Col1467', 'Col1468', 'Col1469', 'Col1470', 'Col1471', 'Col1472', 'Col1473', 'Col1474', 'Col1475', 'Col1476', 'Col1477', 'Col1478', 'Col1479', 'Col1480', 'Col1481', 'Col1482', 'Col1483', 'Col1484', 'Col1485', 'Col1486', 'Col1487', 'Col1488', 'Col1489', 'Col1490', 'Col1491', 'Col1492', 'Col1493', 'Col1494', 'Col1495', 'Col1496', 'Col1497', 'Col1498', 'Col1499', 'Col1500', 'Col1501', 'Col1502', 'Col1503', 'Col1504', 'Col1505', 'Col1506', 'Col1507', 'Col1508', 'Col1509', 'Col1510', 'Col1511', 'Col1512', 'Col1513', 'Col1514', 'Col1515', 'Col1516', 'Col1517', 'Col1518', 'Col1519', 'Col1520', 'Col1521', 'Col1522', 'Col1523', 'Col1524', 'Col1525', 'Col1526', 'Col1527', 'Col1528', 'Col1529', 'Col1530', 'Col1531', 'Col1532', 'Col1533', 'Col1534', 'Col1535', 'Col1536', 'Col1537', 'Col1538', 'Col1539', 'Col1540', 'Col1541', 'Col1542', 'Col1543', 'Col1544', 'Col1545', 'Col1546', 'Col1547', 'Col1548', 'Col1549', 'Col1550', 'Col1551', 'Col1552', 'Col1553', 'Col1554', 'Col1555', 'Col1556', 'Col1557', 'Col1558', 'Col1559', 'Col1560', 'Col1561', 'Col1562', 'Col1563', 'Col1564', 'Col1565', 'Col1566', 'Col1567', 'Col1568', 'Col1569', 'Col1570', 'Col1571', 'Col1572', 'Col1573', 'Col1574', 'Col1575', 'Col1576', 'Col1577', 'Col1578', 'Col1579', 'Col1580', 'Col1581', 'Col1582', 'Col1583', 'Col1584', 'Col1585', 'Col1586', 'Col1587', 'Col1588', 'Col1589', 'Col1590', 'Col1591', 'Col1592', 'Col1593', 'Col1594', 'Col1595', 'Col1596', 'Col1597', 'Col1598', 'Col1599', 'Col1600', 'Col1601', 'Col1602', 'Col1603', 'Col1604', 'Col1605', 'Col1606', 'Col1607', 'Col1608', 'Col1609', 'Col1610', 'Col1611', 'Col1612', 'Col1613', 'Col1614', 'Col1615', 'Col1616', 'Col1617', 'Col1618', 'Col1619', 'Col1620', 'Col1621', 'Col1622', 'Col1623', 'Col1624', 'Col1625', 'Col1626', 'Col1627', 'Col1628', 'Col1629', 'Col1630', 'Col1631', 'Col1632', 'Col1633', 'Col1634', 'Col1635', 'Col1636', 'Col1637', 'Col1638', 'Col1639', 'Col1640', 'Col1641', 'Col1642', 'Col1643', 'Col1644', 'Col1645', 'Col1646', 'Col1647', 'Col1648', 'Col1649', 'Col1650', 'Col1651', 'Col1652', 'Col1653', 'Col1654', 'Col1655', 'Col1656', 'Col1657', 'Col1658', 'Col1659', 'Col1660', 'Col1661', 'Col1664', 'Col1665', 'Col1666', 'Col1667', 'Col1668', 'Col1669', 'Col1670', 'Col1671', 'Col1672', 'Col1673', 'Col1674', 'Col1675', 'Col1676', 'Col1677', 'Col1678', 'Col1679', 'Col1680', 'Col1681', 'Col1682', 'Col1683', 'Col1684', 'Col1685', 'Col1686', 'Col1687', 'Col1688', 'Col1689', 'Col1690', 'Col1691', 'Col1692', 'Col1693', 'Col1694', 'Col1695', 'Col1696', 'Col1697', 'Col1698', 'Col1699', 'Col1700', 'Col1701', 'Col1702', 'Col1703', 'Col1704', 'Col1705', 'Col1706', 'Col1707', 'Col1708', 'Col1709', 'Col1710', 'Col1711', 'Col1712', 'Col1713', 'Col1714', 'Col1715', 'Col1716', 'Col1717', 'Col1718', 'Col1719', 'Col1720', 'Col1721', 'Col1722', 'Col1723', 'Col1724', 'Col1725', 'Col1726', 'Col1727', 'Col1728', 'Col1729', 'Col1730', 'Col1731', 'Col1732', 'Col1733', 'Col1734', 'Col1735', 'Col1736', 'Col1737', 'Col1738', 'Col1739', 'Col1740', 'Col1741', 'Col1742', 'Col1743', 'Col1744', 'Col1745', 'Col1746', 'Col1747', 'Col1748', 'Col1749', 'Col1750', 'Col1751', 'Col1752', 'Col1753', 'Col1754', 'Col1755', 'Col1756', 'Col1757', 'Col1758', 'Col1759', 'Col1760', 'Col1761', 'Col1762', 'Col1763', 'Col1764', 'Col1765', 'Col1766', 'Col1767', 'Col1768', 'Col1769', 'Col1770', 'Col1771', 'Col1772', 'Col1773', 'Col1774', 'Col1775', 'Col1776', 'Col1777', 'Col1778', 'Col1779', 'Col1780', 'Col1781', 'Col1782', 'Col1783', 'Col1784', 'Col1785', 'Col1786', 'Col1787', 'Col1788', 'Col1789', 'Col1790', 'Col1791', 'Col1792', 'Col1793', 'Col1794', 'Col1795', 'Col1796', 'Col1797', 'Col1798', 'Col1799', 'Col1800', 'Col1801', 'Col1802', 'Col1803', 'Col1804', 'Col1805', 'Col1806', 'Col1807', 'Col1808', 'Col1809', 'Col1810', 'Col1811', 'Col1812', 'Col1813', 'Col1814', 'Col1815', 'Col1816', 'Col1817', 'Col1818', 'Col1819', 'Col1820', 'Col1821', 'Col1822', 'Col1823', 'Col1824', 'Col1825', 'Col1826', 'Col1827', 'Col1828', 'Col1829', 'Col1830', 'Col1831', 'Col1832', 'Col1833', 'Col1834', 'Col1835', 'Col1836', 'Col1837', 'Col1838', 'Col1839', 'Col1840', 'Col1841', 'Col1842', 'Col1843', 'Col1844', 'Col1845', 'Col1846', 'Col1847', 'Col1848', 'Col1849', 'Col1850', 'Col1851', 'Col1852', 'Col1853', 'Col1854', 'Col1855', 'Col1856', 'Col1857', 'Col1858', 'Col1859', 'Col1860', 'Col1861', 'Col1862', 'Col1863', 'Col1864', 'Col1865', 'Col1866', 'Col1867', 'Col1868', 'Col1869', 'Col1870', 'Col1871', 'Col1872', 'Col1873', 'Col1874', 'Col1875', 'Col1876', 'Col1877', 'Col1878', 'Col1879', 'Col1880', 'Col1881', 'Col1882', 'Col1883', 'Col1884', 'Col1885', 'Col1886', 'Col1887', 'Col1888', 'Col1889', 'Col1890', 'Col1891', 'Col1892', 'Col1893', 'Col1894', 'Col1895', 'Col1896', 'Col1897', 'Col1898', 'Col1899', 'Col1900', 'Col1901', 'Col1902', 'Col1903', 'Col1904', 'Col1905', 'Col1906', 'Col1907', 'Col1908', 'Col1909', 'Col1910', 'Col1911', 'Col1912', 'Col1913', 'Col1914', 'Col1915', 'Col1916', 'Col1917', 'Col1918', 'Col1919', 'Col1920', 'Col1921', 'Col1922', 'Col1923', 'Col1924', 'Col1925', 'Col1926', 'Col1927', 'Col1928', 'Col1929', 'Col1930', 'Col1931', 'Col1932', 'Col1933', 'Col1934', 'Col1935', 'Col1936', 'Col1937', 'Col1938', 'Col1939', 'Col1940', 'Col1941', 'Col1942', 'Col1943', 'Col1944', 'Col1945', 'Col1946', 'Col1947', 'Col1948', 'Col1949', 'Col1950', 'Col1951', 'Col1952', 'Col1953', 'Col1954', 'Col1955', 'Col1956', 'Col1957', 'Col1958', 'Col1959', 'Col1960', 'Col1961', 'Col1962', 'Col1963', 'Col1964', 'Col1965', 'Col1966', 'Col1967', 'Col1968', 'Col1969', 'Col1970', 'Col1971', 'Col1972', 'Col1973', 'Col1974', 'Col1975', 'Col1976', 'Col1977', 'Col1978', 'Col1979', 'Col1980', 'Col1981', 'Col1982', 'Col1983', 'Col1984', 'Col1985', 'Col1986', 'Col1987', 'Col1988', 'Col1989', 'Col1990', 'Col1991', 'Col1992', 'Col1993', 'Col1994', 'Col1995', 'Col1996', 'Col1997', 'Col1998', 'Col1999', 'Col2000', 'Col2001', 'Col2002', 'Col2003', 'Col2004', 'Col2005', 'Col2006', 'Col2007', 'Col2008', 'Col2009', 'Col2010', 'Col2011', 'Col2012', 'Col2013', 'Col2014', 'Col2015', 'Col2016', 'Col2017', 'Col2018', 'Col2019', 'Col2020', 'Col2021', 'Col2022', 'Col2023', 'Col2024', 'Col2025', 'Col2026', 'Col2027', 'Col2028', 'Col2029', 'Col2030', 'Col2031', 'Col2032', 'Col2033', 'Col2034', 'Col2035', 'Col2036', 'Col2037', 'Col2038', 'Col2039', 'Col2040', 'Col2041', 'Col2042', 'Col2043', 'Col2044', 'Col2045', 'Col2046', 'Col2047', 'Col2048', 'Col2049', 'Col2050', 'Col2051', 'Col2052', 'Col2053', 'Col2054', 'Col2055', 'Col2056', 'Col2057', 'Col2058', 'Col2059', 'Col2060', 'Col2061', 'Col2062', 'Col2063', 'Col2064', 'Col2065', 'Col2066', 'Col2067', 'Col2068', 'Col2069', 'Col2070', 'Col2071', 'Col2072', 'Col2073', 'Col2074', 'Col2075', 'Col2076', 'Col2077', 'Col2078', 'Col2079', 'Col2080', 'Col2081', 'Col2082', 'Col2083', 'Col2084', 'Col2085', 'Col2086', 'Col2087', 'Col2088', 'Col2089', 'Col2090', 'Col2091', 'Col2092', 'Col2093', 'Col2094', 'Col2095', 'Col2096', 'Col2097', 'Col2098', 'Col2099', 'Col2100', 'Col2101', 'Col2102', 'Col2103', 'Col2104', 'Col2105', 'Col2106', 'Col2107', 'Col2108', 'Col2109', 'Col2110', 'Col2111', 'Col2112', 'Col2113', 'Col2114', 'Col2115', 'Col2116', 'Col2117', 'Col2118', 'Col2119', 'Col2120', 'Col2121', 'Col2122', 'Col2123', 'Col2124', 'Col2125', 'Col2126', 'Col2127', 'Col2128', 'Col2129', 'Col2130', 'Col2131', 'Col2132', 'Col2133', 'Col2134', 'Col2135', 'Col2136', 'Col2137', 'Col2138', 'Col2139', 'Col2140', 'Col2141', 'Col2142', 'Col2143', 'Col2144', 'Col2145', 'Col2146', 'Col2147', 'Col2148', 'Col2149', 'Col2150', 'Col2151', 'Col2152', 'Col2153', 'Col2154', 'Col2155', 'Col2156', 'Col2157', 'Col2158', 'Col2159', 'Col2160', 'Col2161', 'Col2162', 'Col2163', 'Col2164', 'Col2165', 'Col2166', 'Col2167', 'Col2168', 'Col2169', 'Col2170', 'Col2171', 'Col2172', 'Col2173', 'Col2174', 'Col2175', 'Col2176', 'Col2177', 'Col2178', 'Col2179', 'Col2180', 'Col2181', 'Col2182', 'Col2183', 'Col2184', 'Col2185', 'Col2186', 'Col2187', 'Col2188', 'Col2189', 'Col2190', 'Col2191', 'Col2192', 'Col2193', 'Col2194', 'Col2195', 'Col2196', 'Col2197', 'Col2198', 'Col2199', 'Col2200', 'Col2201', 'Col2202', 'Col2203', 'Col2204', 'Col2205', 'Col2206', 'Col2207', 'Col2208', 'Col2209', 'Col2210', 'Col2211', 'Col2212', 'Col2213', 'Col2214', 'Col2215', 'Col2216', 'Col2217', 'Col2218', 'Col2219', 'Col2220', 'Col2221', 'Col2222', 'Col2223', 'Col2224', 'Col2225', 'Col2226', 'Col2227', 'Col2228', 'Col2229', 'Col2230', 'Col2231', 'Col2232', 'Col2233', 'Col2234', 'Col2235', 'Col2236', 'Col2237', 'Col2238', 'Col2239', 'Col2240', 'Col2241', 'Col2242', 'Col2243', 'Col2244', 'Col2245', 'Col2246', 'Col2247', 'Col2248', 'Col2249', 'Col2250', 'Col2251', 'Col2252', 'Col2253', 'Col2254', 'Col2255', 'Col2256', 'Col2257', 'Col2258', 'Col2259', 'Col2260', 'Col2261', 'Col2262', 'Col2263', 'Col2264', 'Col2265', 'Col2266', 'Col2267', 'Col2268', 'Col2269', 'Col2270', 'Col2271', 'Col2272', 'Col2273', 'Col2274', 'Col2275', 'Col2276', 'Col2277', 'Col2278', 'Col2279', 'Col2280', 'Col2281', 'Col2282', 'Col2283', 'Col2284', 'Col2285', 'Col2286', 'Col2287', 'Col2288', 'Col2289', 'Col2290', 'Col2291', 'Col2292', 'Col2293', 'Col2294', 'Col2295', 'Col2296', 'Col2297', 'Col2298', 'Col2299', 'Col2300', 'Col2301', 'Col2302', 'Col2303', 'Col2304', 'Col2305', 'Col2306', 'Col2307', 'Col2308', 'Col2309', 'Col2310', 'Col2311', 'Col2312', 'Col2313', 'Col2314', 'Col2315', 'Col2316', 'Col2317', 'Col2318', 'Col2319', 'Col2320', 'Col2321', 'Col2322', 'Col2323', 'Col2324', 'Col2325', 'Col2326', 'Col2327', 'Col2328', 'Col2329', 'Col2330', 'Col2331', 'Col2332', 'Col2333', 'Col2334', 'Col2335', 'Col2336', 'Col2337', 'Col2338', 'Col2339', 'Col2340', 'Col2341', 'Col2342', 'Col2343', 'Col2344', 'Col2345', 'Col2346', 'Col2347', 'Col2348', 'Col2349', 'Col2350', 'Col2351', 'Col2352', 'Col2353', 'Col2354', 'Col2355', 'Col2356', 'Col2357', 'Col2358', 'Col2359', 'Col2360', 'Col2361', 'Col2362', 'Col2363', 'Col2364', 'Col2365', 'Col2366', 'Col2367', 'Col2368', 'Col2369', 'Col2370', 'Col2371', 'Col2372', 'Col2373', 'Col2374', 'Col2375', 'Col2376', 'Col2377', 'Col2378', 'Col2379', 'Col2380', 'Col2381', 'Col2382', 'Col2383', 'Col2384', 'Col2385', 'Col2386', 'Col2387', 'Col2388', 'Col2389', 'Col2390', 'Col2391', 'Col2392', 'Col2393', 'Col2394', 'Col2395', 'Col2396', 'Col2397']\n"
          ],
          "name": "stdout"
        }
      ]
    },
    {
      "cell_type": "code",
      "metadata": {
        "id": "g-Vk7tk7pUNk",
        "colab_type": "code",
        "colab": {}
      },
      "source": [
        "# High points are missing \n",
        "data1 = data[remove_col2]"
      ],
      "execution_count": 0,
      "outputs": []
    },
    {
      "cell_type": "code",
      "metadata": {
        "id": "z15SGg6opUIQ",
        "colab_type": "code",
        "outputId": "32d416c1-a31b-413a-bd62-cb92dd8ce119",
        "colab": {
          "base_uri": "https://localhost:8080/",
          "height": 34
        }
      },
      "source": [
        "data1.shape"
      ],
      "execution_count": 0,
      "outputs": [
        {
          "output_type": "execute_result",
          "data": {
            "text/plain": [
              "(17521, 2166)"
            ]
          },
          "metadata": {
            "tags": []
          },
          "execution_count": 14
        }
      ]
    },
    {
      "cell_type": "code",
      "metadata": {
        "id": "b67wXWaVpUDJ",
        "colab_type": "code",
        "outputId": "f0fac305-7ca9-4967-afc7-d1d9f644b811",
        "colab": {
          "base_uri": "https://localhost:8080/",
          "height": 102
        }
      },
      "source": [
        "data1.drop(['Col1'], axis = 1, inplace = True)"
      ],
      "execution_count": 0,
      "outputs": [
        {
          "output_type": "stream",
          "text": [
            "/usr/local/lib/python3.6/dist-packages/pandas/core/frame.py:3940: SettingWithCopyWarning: \n",
            "A value is trying to be set on a copy of a slice from a DataFrame\n",
            "\n",
            "See the caveats in the documentation: http://pandas.pydata.org/pandas-docs/stable/indexing.html#indexing-view-versus-copy\n",
            "  errors=errors)\n"
          ],
          "name": "stderr"
        }
      ]
    },
    {
      "cell_type": "code",
      "metadata": {
        "id": "0vnfcaZFpchI",
        "colab_type": "code",
        "outputId": "def297fb-17b6-44f3-bd08-7ef689096896",
        "colab": {
          "base_uri": "https://localhost:8080/",
          "height": 191
        }
      },
      "source": [
        "data1.head(3)"
      ],
      "execution_count": 0,
      "outputs": [
        {
          "output_type": "execute_result",
          "data": {
            "text/html": [
              "<div>\n",
              "<style scoped>\n",
              "    .dataframe tbody tr th:only-of-type {\n",
              "        vertical-align: middle;\n",
              "    }\n",
              "\n",
              "    .dataframe tbody tr th {\n",
              "        vertical-align: top;\n",
              "    }\n",
              "\n",
              "    .dataframe thead th {\n",
              "        text-align: right;\n",
              "    }\n",
              "</style>\n",
              "<table border=\"1\" class=\"dataframe\">\n",
              "  <thead>\n",
              "    <tr style=\"text-align: right;\">\n",
              "      <th></th>\n",
              "      <th>Col2</th>\n",
              "      <th>Col3</th>\n",
              "      <th>Col4</th>\n",
              "      <th>Col5</th>\n",
              "      <th>Col6</th>\n",
              "      <th>Col7</th>\n",
              "      <th>Col8</th>\n",
              "      <th>Col9</th>\n",
              "      <th>Col10</th>\n",
              "      <th>Col11</th>\n",
              "      <th>Col12</th>\n",
              "      <th>Col13</th>\n",
              "      <th>Col14</th>\n",
              "      <th>Col15</th>\n",
              "      <th>Col16</th>\n",
              "      <th>Col17</th>\n",
              "      <th>Col18</th>\n",
              "      <th>Col21</th>\n",
              "      <th>Col22</th>\n",
              "      <th>Col23</th>\n",
              "      <th>Col24</th>\n",
              "      <th>Col25</th>\n",
              "      <th>Col26</th>\n",
              "      <th>Col27</th>\n",
              "      <th>Col29</th>\n",
              "      <th>Col30</th>\n",
              "      <th>Col31</th>\n",
              "      <th>Col32</th>\n",
              "      <th>Col33</th>\n",
              "      <th>Col34</th>\n",
              "      <th>Col35</th>\n",
              "      <th>Col36</th>\n",
              "      <th>Col42</th>\n",
              "      <th>Col43</th>\n",
              "      <th>Col44</th>\n",
              "      <th>Col45</th>\n",
              "      <th>Col46</th>\n",
              "      <th>Col47</th>\n",
              "      <th>Col48</th>\n",
              "      <th>Col49</th>\n",
              "      <th>...</th>\n",
              "      <th>Col2358</th>\n",
              "      <th>Col2359</th>\n",
              "      <th>Col2360</th>\n",
              "      <th>Col2361</th>\n",
              "      <th>Col2362</th>\n",
              "      <th>Col2363</th>\n",
              "      <th>Col2364</th>\n",
              "      <th>Col2365</th>\n",
              "      <th>Col2366</th>\n",
              "      <th>Col2367</th>\n",
              "      <th>Col2368</th>\n",
              "      <th>Col2369</th>\n",
              "      <th>Col2370</th>\n",
              "      <th>Col2371</th>\n",
              "      <th>Col2372</th>\n",
              "      <th>Col2373</th>\n",
              "      <th>Col2374</th>\n",
              "      <th>Col2375</th>\n",
              "      <th>Col2376</th>\n",
              "      <th>Col2377</th>\n",
              "      <th>Col2378</th>\n",
              "      <th>Col2379</th>\n",
              "      <th>Col2380</th>\n",
              "      <th>Col2381</th>\n",
              "      <th>Col2382</th>\n",
              "      <th>Col2383</th>\n",
              "      <th>Col2384</th>\n",
              "      <th>Col2385</th>\n",
              "      <th>Col2386</th>\n",
              "      <th>Col2387</th>\n",
              "      <th>Col2388</th>\n",
              "      <th>Col2389</th>\n",
              "      <th>Col2390</th>\n",
              "      <th>Col2391</th>\n",
              "      <th>Col2392</th>\n",
              "      <th>Col2393</th>\n",
              "      <th>Col2394</th>\n",
              "      <th>Col2395</th>\n",
              "      <th>Col2396</th>\n",
              "      <th>Col2397</th>\n",
              "    </tr>\n",
              "  </thead>\n",
              "  <tbody>\n",
              "    <tr>\n",
              "      <th>0</th>\n",
              "      <td>1</td>\n",
              "      <td>1.086711e+04</td>\n",
              "      <td>8.648345e+03</td>\n",
              "      <td>1.576618e+04</td>\n",
              "      <td>2.890466e+04</td>\n",
              "      <td>5.273655e+03</td>\n",
              "      <td>2.346153e+04</td>\n",
              "      <td>1.285597e+04</td>\n",
              "      <td>2.871509e+04</td>\n",
              "      <td>9.114586e+03</td>\n",
              "      <td>3.043078e+04</td>\n",
              "      <td>9.293496</td>\n",
              "      <td>8.570479</td>\n",
              "      <td>10.063117</td>\n",
              "      <td>10.271758</td>\n",
              "      <td>0.548538</td>\n",
              "      <td>0.403366</td>\n",
              "      <td>1.486524</td>\n",
              "      <td>1.728324</td>\n",
              "      <td>0.993441</td>\n",
              "      <td>1.297050</td>\n",
              "      <td>0.137398</td>\n",
              "      <td>0.115987</td>\n",
              "      <td>0.260428</td>\n",
              "      <td>1</td>\n",
              "      <td>1</td>\n",
              "      <td>1</td>\n",
              "      <td>1</td>\n",
              "      <td>1</td>\n",
              "      <td>1</td>\n",
              "      <td>0</td>\n",
              "      <td>6</td>\n",
              "      <td>6.07</td>\n",
              "      <td>6.07</td>\n",
              "      <td>2</td>\n",
              "      <td>3</td>\n",
              "      <td>2</td>\n",
              "      <td>3</td>\n",
              "      <td>2</td>\n",
              "      <td>2</td>\n",
              "      <td>...</td>\n",
              "      <td>0</td>\n",
              "      <td>0</td>\n",
              "      <td>0</td>\n",
              "      <td>0</td>\n",
              "      <td>0</td>\n",
              "      <td>0</td>\n",
              "      <td>0</td>\n",
              "      <td>0</td>\n",
              "      <td>0</td>\n",
              "      <td>0</td>\n",
              "      <td>0</td>\n",
              "      <td>0</td>\n",
              "      <td>0</td>\n",
              "      <td>0</td>\n",
              "      <td>0</td>\n",
              "      <td>0</td>\n",
              "      <td>0</td>\n",
              "      <td>0</td>\n",
              "      <td>0</td>\n",
              "      <td>0</td>\n",
              "      <td>0</td>\n",
              "      <td>0</td>\n",
              "      <td>0</td>\n",
              "      <td>0</td>\n",
              "      <td>0</td>\n",
              "      <td>0</td>\n",
              "      <td>0</td>\n",
              "      <td>0</td>\n",
              "      <td>0</td>\n",
              "      <td>0</td>\n",
              "      <td>0</td>\n",
              "      <td>1</td>\n",
              "      <td>0</td>\n",
              "      <td>1</td>\n",
              "      <td>214.0</td>\n",
              "      <td>214.0</td>\n",
              "      <td>68.0</td>\n",
              "      <td>22.0</td>\n",
              "      <td>22.0</td>\n",
              "      <td>7.0</td>\n",
              "    </tr>\n",
              "    <tr>\n",
              "      <th>1</th>\n",
              "      <td>0</td>\n",
              "      <td>2.584312e+05</td>\n",
              "      <td>2.179633e+05</td>\n",
              "      <td>1.866287e+05</td>\n",
              "      <td>1.866287e+05</td>\n",
              "      <td>2.154519e+05</td>\n",
              "      <td>1.923615e+05</td>\n",
              "      <td>1.726538e+05</td>\n",
              "      <td>1.666974e+05</td>\n",
              "      <td>2.013518e+05</td>\n",
              "      <td>1.859404e+05</td>\n",
              "      <td>12.462385</td>\n",
              "      <td>12.280493</td>\n",
              "      <td>12.167132</td>\n",
              "      <td>12.136876</td>\n",
              "      <td>1.167898</td>\n",
              "      <td>2.676398</td>\n",
              "      <td>0.792123</td>\n",
              "      <td>0.934556</td>\n",
              "      <td>0.893203</td>\n",
              "      <td>0.966620</td>\n",
              "      <td>0.753892</td>\n",
              "      <td>0.808295</td>\n",
              "      <td>1.414214</td>\n",
              "      <td>1</td>\n",
              "      <td>1</td>\n",
              "      <td>3</td>\n",
              "      <td>4</td>\n",
              "      <td>4</td>\n",
              "      <td>0</td>\n",
              "      <td>4</td>\n",
              "      <td>5</td>\n",
              "      <td>116.65</td>\n",
              "      <td>116.65</td>\n",
              "      <td>3</td>\n",
              "      <td>0</td>\n",
              "      <td>2</td>\n",
              "      <td>0</td>\n",
              "      <td>2</td>\n",
              "      <td>0</td>\n",
              "      <td>...</td>\n",
              "      <td>0</td>\n",
              "      <td>0</td>\n",
              "      <td>0</td>\n",
              "      <td>0</td>\n",
              "      <td>0</td>\n",
              "      <td>0</td>\n",
              "      <td>0</td>\n",
              "      <td>0</td>\n",
              "      <td>0</td>\n",
              "      <td>0</td>\n",
              "      <td>0</td>\n",
              "      <td>0</td>\n",
              "      <td>0</td>\n",
              "      <td>1</td>\n",
              "      <td>0</td>\n",
              "      <td>0</td>\n",
              "      <td>0</td>\n",
              "      <td>0</td>\n",
              "      <td>0</td>\n",
              "      <td>0</td>\n",
              "      <td>0</td>\n",
              "      <td>0</td>\n",
              "      <td>0</td>\n",
              "      <td>0</td>\n",
              "      <td>0</td>\n",
              "      <td>0</td>\n",
              "      <td>0</td>\n",
              "      <td>0</td>\n",
              "      <td>0</td>\n",
              "      <td>0</td>\n",
              "      <td>0</td>\n",
              "      <td>0</td>\n",
              "      <td>0</td>\n",
              "      <td>0</td>\n",
              "      <td>41.0</td>\n",
              "      <td>41.0</td>\n",
              "      <td>38.0</td>\n",
              "      <td>12.0</td>\n",
              "      <td>12.0</td>\n",
              "      <td>11.0</td>\n",
              "    </tr>\n",
              "    <tr>\n",
              "      <th>2</th>\n",
              "      <td>0</td>\n",
              "      <td>1.459355e+07</td>\n",
              "      <td>1.260060e+07</td>\n",
              "      <td>1.100315e+07</td>\n",
              "      <td>1.010315e+07</td>\n",
              "      <td>1.879882e+07</td>\n",
              "      <td>1.514035e+07</td>\n",
              "      <td>5.320778e+06</td>\n",
              "      <td>6.906324e+06</td>\n",
              "      <td>9.368338e+06</td>\n",
              "      <td>1.113330e+07</td>\n",
              "      <td>16.496090</td>\n",
              "      <td>16.749305</td>\n",
              "      <td>16.532874</td>\n",
              "      <td>16.128357</td>\n",
              "      <td>1.145182</td>\n",
              "      <td>2.203874</td>\n",
              "      <td>0.422264</td>\n",
              "      <td>0.498347</td>\n",
              "      <td>0.683582</td>\n",
              "      <td>0.735339</td>\n",
              "      <td>0.808115</td>\n",
              "      <td>0.776910</td>\n",
              "      <td>1.414214</td>\n",
              "      <td>3</td>\n",
              "      <td>3</td>\n",
              "      <td>4</td>\n",
              "      <td>12</td>\n",
              "      <td>4</td>\n",
              "      <td>0</td>\n",
              "      <td>2</td>\n",
              "      <td>4</td>\n",
              "      <td>33.28</td>\n",
              "      <td>33.28</td>\n",
              "      <td>2</td>\n",
              "      <td>1</td>\n",
              "      <td>2</td>\n",
              "      <td>0</td>\n",
              "      <td>1</td>\n",
              "      <td>0</td>\n",
              "      <td>...</td>\n",
              "      <td>1</td>\n",
              "      <td>0</td>\n",
              "      <td>1</td>\n",
              "      <td>0</td>\n",
              "      <td>1</td>\n",
              "      <td>0</td>\n",
              "      <td>0</td>\n",
              "      <td>0</td>\n",
              "      <td>0</td>\n",
              "      <td>0</td>\n",
              "      <td>2</td>\n",
              "      <td>0</td>\n",
              "      <td>1</td>\n",
              "      <td>1</td>\n",
              "      <td>0</td>\n",
              "      <td>0</td>\n",
              "      <td>0</td>\n",
              "      <td>0</td>\n",
              "      <td>0</td>\n",
              "      <td>0</td>\n",
              "      <td>2</td>\n",
              "      <td>0</td>\n",
              "      <td>0</td>\n",
              "      <td>0</td>\n",
              "      <td>0</td>\n",
              "      <td>0</td>\n",
              "      <td>0</td>\n",
              "      <td>0</td>\n",
              "      <td>0</td>\n",
              "      <td>0</td>\n",
              "      <td>0</td>\n",
              "      <td>1</td>\n",
              "      <td>1</td>\n",
              "      <td>0</td>\n",
              "      <td>378.0</td>\n",
              "      <td>378.0</td>\n",
              "      <td>310.0</td>\n",
              "      <td>21.0</td>\n",
              "      <td>21.0</td>\n",
              "      <td>16.0</td>\n",
              "    </tr>\n",
              "  </tbody>\n",
              "</table>\n",
              "<p>3 rows × 2165 columns</p>\n",
              "</div>"
            ],
            "text/plain": [
              "   Col2          Col3          Col4  ...  Col2395  Col2396  Col2397\n",
              "0     1  1.086711e+04  8.648345e+03  ...     22.0     22.0      7.0\n",
              "1     0  2.584312e+05  2.179633e+05  ...     12.0     12.0     11.0\n",
              "2     0  1.459355e+07  1.260060e+07  ...     21.0     21.0     16.0\n",
              "\n",
              "[3 rows x 2165 columns]"
            ]
          },
          "metadata": {
            "tags": []
          },
          "execution_count": 16
        }
      ]
    },
    {
      "cell_type": "code",
      "metadata": {
        "id": "F-4dSrFebsAr",
        "colab_type": "code",
        "outputId": "9695cd4f-be74-4aa5-c10e-85e93abee442",
        "colab": {
          "base_uri": "https://localhost:8080/",
          "height": 68
        }
      },
      "source": [
        "data1[\"Col2\"].value_counts()"
      ],
      "execution_count": 0,
      "outputs": [
        {
          "output_type": "execute_result",
          "data": {
            "text/plain": [
              "0    15760\n",
              "1     1761\n",
              "Name: Col2, dtype: int64"
            ]
          },
          "metadata": {
            "tags": []
          },
          "execution_count": 17
        }
      ]
    },
    {
      "cell_type": "code",
      "metadata": {
        "id": "FW0XXW_xfIqm",
        "colab_type": "code",
        "outputId": "32075721-a618-49b4-f6d9-07c4f393d579",
        "colab": {
          "base_uri": "https://localhost:8080/",
          "height": 34
        }
      },
      "source": [
        "1761/17521"
      ],
      "execution_count": 0,
      "outputs": [
        {
          "output_type": "execute_result",
          "data": {
            "text/plain": [
              "0.10050796187432225"
            ]
          },
          "metadata": {
            "tags": []
          },
          "execution_count": 18
        }
      ]
    },
    {
      "cell_type": "code",
      "metadata": {
        "id": "loDh-bUWpca6",
        "colab_type": "code",
        "colab": {}
      },
      "source": [
        "X = data1.iloc[:,1:].values"
      ],
      "execution_count": 0,
      "outputs": []
    },
    {
      "cell_type": "code",
      "metadata": {
        "id": "PKTsK2gJpe-Q",
        "colab_type": "code",
        "colab": {}
      },
      "source": [
        "Y = data1['Col2'].values"
      ],
      "execution_count": 0,
      "outputs": []
    },
    {
      "cell_type": "code",
      "metadata": {
        "id": "xDrtB72tpe5h",
        "colab_type": "code",
        "outputId": "d8e22aab-27b8-4230-f0bc-0427c05e2c78",
        "colab": {
          "base_uri": "https://localhost:8080/",
          "height": 238
        }
      },
      "source": [
        "X"
      ],
      "execution_count": 0,
      "outputs": [
        {
          "output_type": "execute_result",
          "data": {
            "text/plain": [
              "array([[1.08671100e+04, 8.64834500e+03, 1.57661791e+04, ...,\n",
              "        2.20000000e+01, 2.20000000e+01, 7.00000000e+00],\n",
              "       [2.58431243e+05, 2.17963272e+05, 1.86628682e+05, ...,\n",
              "        1.20000000e+01, 1.20000000e+01, 1.10000000e+01],\n",
              "       [1.45935482e+07, 1.26006039e+07, 1.10031452e+07, ...,\n",
              "        2.10000000e+01, 2.10000000e+01, 1.60000000e+01],\n",
              "       ...,\n",
              "       [4.22094133e+04, 3.17377125e+04, 2.53901700e+04, ...,\n",
              "        4.00000000e+00, 4.00000000e+00, 2.00000000e+00],\n",
              "       [7.04849633e+04, 9.81461029e+04, 9.81461029e+04, ...,\n",
              "        1.00000000e+01, 9.00000000e+00, 4.00000000e+00],\n",
              "       [1.01919833e+04, 1.01442625e+04, 1.01442625e+04, ...,\n",
              "        4.00000000e+00, 4.00000000e+00, 3.00000000e+00]])"
            ]
          },
          "metadata": {
            "tags": []
          },
          "execution_count": 21
        }
      ]
    },
    {
      "cell_type": "code",
      "metadata": {
        "id": "xPZy_FrnpcWJ",
        "colab_type": "code",
        "colab": {}
      },
      "source": [
        "from sklearn.impute import SimpleImputer\n",
        "imp = SimpleImputer(missing_values=np.nan, strategy='median')"
      ],
      "execution_count": 0,
      "outputs": []
    },
    {
      "cell_type": "code",
      "metadata": {
        "id": "a4zpDazKpmsm",
        "colab_type": "code",
        "colab": {}
      },
      "source": [
        "X_imp = imp.fit_transform(X)"
      ],
      "execution_count": 0,
      "outputs": []
    },
    {
      "cell_type": "code",
      "metadata": {
        "id": "gUI3c9L8pmlJ",
        "colab_type": "code",
        "outputId": "6b73ac6e-805a-44ac-deda-3ed0192295f3",
        "colab": {
          "base_uri": "https://localhost:8080/",
          "height": 238
        }
      },
      "source": [
        "X_imp"
      ],
      "execution_count": 0,
      "outputs": [
        {
          "output_type": "execute_result",
          "data": {
            "text/plain": [
              "array([[1.08671100e+04, 8.64834500e+03, 1.57661791e+04, ...,\n",
              "        2.20000000e+01, 2.20000000e+01, 7.00000000e+00],\n",
              "       [2.58431243e+05, 2.17963272e+05, 1.86628682e+05, ...,\n",
              "        1.20000000e+01, 1.20000000e+01, 1.10000000e+01],\n",
              "       [1.45935482e+07, 1.26006039e+07, 1.10031452e+07, ...,\n",
              "        2.10000000e+01, 2.10000000e+01, 1.60000000e+01],\n",
              "       ...,\n",
              "       [4.22094133e+04, 3.17377125e+04, 2.53901700e+04, ...,\n",
              "        4.00000000e+00, 4.00000000e+00, 2.00000000e+00],\n",
              "       [7.04849633e+04, 9.81461029e+04, 9.81461029e+04, ...,\n",
              "        1.00000000e+01, 9.00000000e+00, 4.00000000e+00],\n",
              "       [1.01919833e+04, 1.01442625e+04, 1.01442625e+04, ...,\n",
              "        4.00000000e+00, 4.00000000e+00, 3.00000000e+00]])"
            ]
          },
          "metadata": {
            "tags": []
          },
          "execution_count": 24
        }
      ]
    },
    {
      "cell_type": "code",
      "metadata": {
        "id": "3VW4frDIOMZq",
        "colab_type": "code",
        "colab": {}
      },
      "source": [
        "# Train Test split"
      ],
      "execution_count": 0,
      "outputs": []
    },
    {
      "cell_type": "code",
      "metadata": {
        "id": "uYORcgpz5AHr",
        "colab_type": "code",
        "outputId": "f8350ae7-31db-42b5-f78c-468c32988588",
        "colab": {
          "base_uri": "https://localhost:8080/",
          "height": 34
        }
      },
      "source": [
        "trainX = X_imp[:12265]\n",
        "trainX.shape"
      ],
      "execution_count": 0,
      "outputs": [
        {
          "output_type": "execute_result",
          "data": {
            "text/plain": [
              "(12265, 2164)"
            ]
          },
          "metadata": {
            "tags": []
          },
          "execution_count": 26
        }
      ]
    },
    {
      "cell_type": "code",
      "metadata": {
        "id": "0q0o3VCK5AH0",
        "colab_type": "code",
        "outputId": "50411a64-fd30-4737-fbe0-c2c5e6f68434",
        "colab": {
          "base_uri": "https://localhost:8080/",
          "height": 34
        }
      },
      "source": [
        "testX = X_imp[12265:]\n",
        "testX.shape"
      ],
      "execution_count": 0,
      "outputs": [
        {
          "output_type": "execute_result",
          "data": {
            "text/plain": [
              "(5256, 2164)"
            ]
          },
          "metadata": {
            "tags": []
          },
          "execution_count": 27
        }
      ]
    },
    {
      "cell_type": "code",
      "metadata": {
        "id": "YpcFBx6g5AIJ",
        "colab_type": "code",
        "outputId": "40e8e852-4f27-4f72-fd2a-7a73fcf2b797",
        "colab": {
          "base_uri": "https://localhost:8080/",
          "height": 34
        }
      },
      "source": [
        "trainY = Y[:12265]\n",
        "trainY.shape"
      ],
      "execution_count": 0,
      "outputs": [
        {
          "output_type": "execute_result",
          "data": {
            "text/plain": [
              "(12265,)"
            ]
          },
          "metadata": {
            "tags": []
          },
          "execution_count": 28
        }
      ]
    },
    {
      "cell_type": "code",
      "metadata": {
        "id": "jYQo6bIG5AIt",
        "colab_type": "code",
        "outputId": "16e7b3d4-1332-4809-936d-0ebdcb727d7c",
        "colab": {
          "base_uri": "https://localhost:8080/",
          "height": 34
        }
      },
      "source": [
        "testY = Y[12265:]\n",
        "testY.shape"
      ],
      "execution_count": 0,
      "outputs": [
        {
          "output_type": "execute_result",
          "data": {
            "text/plain": [
              "(5256,)"
            ]
          },
          "metadata": {
            "tags": []
          },
          "execution_count": 29
        }
      ]
    },
    {
      "cell_type": "markdown",
      "metadata": {
        "id": "TfuRD_9YZRkc",
        "colab_type": "text"
      },
      "source": [
        "## Baseline Model RF"
      ]
    },
    {
      "cell_type": "code",
      "metadata": {
        "id": "qhJTm43Hks0u",
        "colab_type": "code",
        "colab": {}
      },
      "source": [
        "from sklearn.model_selection import GridSearchCV, RandomizedSearchCV\n",
        "from sklearn.model_selection import StratifiedKFold\n",
        "from sklearn import  metrics\n",
        "from sklearn.model_selection import cross_validate"
      ],
      "execution_count": 0,
      "outputs": []
    },
    {
      "cell_type": "code",
      "metadata": {
        "id": "vku__XLaksux",
        "colab_type": "code",
        "colab": {}
      },
      "source": [
        "param_grid = { \n",
        "    'n_estimators': [350,400,420],\n",
        "    'max_depth' : [8,10,12],\n",
        "   'min_samples_split': [2,3,5,7],\n",
        "    'min_samples_leaf': [2]\n",
        "}"
      ],
      "execution_count": 0,
      "outputs": []
    },
    {
      "cell_type": "code",
      "metadata": {
        "id": "afqmY1DTmQw1",
        "colab_type": "code",
        "colab": {}
      },
      "source": [
        "from sklearn.ensemble import RandomForestClassifier\n",
        "clf = RandomForestClassifier(random_state=0)"
      ],
      "execution_count": 0,
      "outputs": []
    },
    {
      "cell_type": "code",
      "metadata": {
        "id": "_H0U_bxCksoL",
        "colab_type": "code",
        "outputId": "b383e6d3-d132-41d8-faff-1dd4474e4d71",
        "colab": {
          "base_uri": "https://localhost:8080/",
          "height": 340
        }
      },
      "source": [
        "clf = GridSearchCV(estimator= clf, param_grid=param_grid, cv= 5)\n",
        "clf.fit(trainX, trainY)"
      ],
      "execution_count": 0,
      "outputs": [
        {
          "output_type": "execute_result",
          "data": {
            "text/plain": [
              "GridSearchCV(cv=5, error_score='raise-deprecating',\n",
              "             estimator=RandomForestClassifier(bootstrap=True, class_weight=None,\n",
              "                                              criterion='gini', max_depth=None,\n",
              "                                              max_features='auto',\n",
              "                                              max_leaf_nodes=None,\n",
              "                                              min_impurity_decrease=0.0,\n",
              "                                              min_impurity_split=None,\n",
              "                                              min_samples_leaf=1,\n",
              "                                              min_samples_split=2,\n",
              "                                              min_weight_fraction_leaf=0.0,\n",
              "                                              n_estimators='warn', n_jobs=None,\n",
              "                                              oob_score=False, random_state=0,\n",
              "                                              verbose=0, warm_start=False),\n",
              "             iid='warn', n_jobs=None,\n",
              "             param_grid={'max_depth': [8, 10, 12], 'min_samples_leaf': [2],\n",
              "                         'min_samples_split': [2, 3, 5, 7],\n",
              "                         'n_estimators': [350, 400, 420]},\n",
              "             pre_dispatch='2*n_jobs', refit=True, return_train_score=False,\n",
              "             scoring=None, verbose=0)"
            ]
          },
          "metadata": {
            "tags": []
          },
          "execution_count": 56
        }
      ]
    },
    {
      "cell_type": "code",
      "metadata": {
        "id": "66dOdzg0kse0",
        "colab_type": "code",
        "outputId": "3dc81031-5f3e-48f8-a04b-ff78e9892a10",
        "colab": {
          "base_uri": "https://localhost:8080/",
          "height": 85
        }
      },
      "source": [
        "clf.best_params_"
      ],
      "execution_count": 0,
      "outputs": [
        {
          "output_type": "execute_result",
          "data": {
            "text/plain": [
              "{'max_depth': 10,\n",
              " 'min_samples_leaf': 2,\n",
              " 'min_samples_split': 5,\n",
              " 'n_estimators': 400}"
            ]
          },
          "metadata": {
            "tags": []
          },
          "execution_count": 57
        }
      ]
    },
    {
      "cell_type": "code",
      "metadata": {
        "id": "TXL1Pp7iaHJ9",
        "colab_type": "code",
        "colab": {}
      },
      "source": [
        "clf = RandomForestClassifier(random_state = 0, max_depth = 10 , min_samples_leaf = 2, min_samples_split = 5, n_estimators = 400 )"
      ],
      "execution_count": 0,
      "outputs": []
    },
    {
      "cell_type": "code",
      "metadata": {
        "id": "QtcqLNKnaICm",
        "colab_type": "code",
        "outputId": "4929c951-2ff0-4517-e200-7d1d5040efaf",
        "colab": {
          "base_uri": "https://localhost:8080/",
          "height": 136
        }
      },
      "source": [
        "clf.fit(trainX, trainY)"
      ],
      "execution_count": 0,
      "outputs": [
        {
          "output_type": "execute_result",
          "data": {
            "text/plain": [
              "RandomForestClassifier(bootstrap=True, class_weight=None, criterion='gini',\n",
              "                       max_depth=10, max_features='auto', max_leaf_nodes=None,\n",
              "                       min_impurity_decrease=0.0, min_impurity_split=None,\n",
              "                       min_samples_leaf=2, min_samples_split=5,\n",
              "                       min_weight_fraction_leaf=0.0, n_estimators=400,\n",
              "                       n_jobs=None, oob_score=False, random_state=0, verbose=0,\n",
              "                       warm_start=False)"
            ]
          },
          "metadata": {
            "tags": []
          },
          "execution_count": 59
        }
      ]
    },
    {
      "cell_type": "code",
      "metadata": {
        "id": "MQUQNErpaTwj",
        "colab_type": "code",
        "outputId": "f38dd994-cd4b-4c98-d38a-5e32387d2dbc",
        "colab": {
          "base_uri": "https://localhost:8080/",
          "height": 844
        }
      },
      "source": [
        "features = data1.iloc[:,1:].columns\n",
        "importances = clf.feature_importances_\n",
        "indices = np.argsort(importances)[-50:]  # top 10 features\n",
        "plt.figure(figsize=(10, 14))\n",
        "plt.title('Feature Importances')\n",
        "plt.barh(range(len(indices)), importances[indices], color='b', align='center')\n",
        "plt.yticks(range(len(indices)), [features[i] for i in indices])\n",
        "plt.xlabel('Relative Importance')\n",
        "plt.show()"
      ],
      "execution_count": 0,
      "outputs": [
        {
          "output_type": "display_data",
          "data": {
            "image/png": "[encoded data removed]",
            "text/plain": [
              "<Figure size 720x1008 with 1 Axes>"
            ]
          },
          "metadata": {
            "tags": []
          }
        }
      ]
    },
    {
      "cell_type": "code",
      "metadata": {
        "id": "9S76CQGianQq",
        "colab_type": "code",
        "colab": {}
      },
      "source": [
        "y_pred = clf.predict(testX)"
      ],
      "execution_count": 0,
      "outputs": []
    },
    {
      "cell_type": "code",
      "metadata": {
        "id": "Dc26olWDgqNZ",
        "colab_type": "code",
        "colab": {}
      },
      "source": [
        "from sklearn.metrics import classification_report, f1_score"
      ],
      "execution_count": 0,
      "outputs": []
    },
    {
      "cell_type": "code",
      "metadata": {
        "id": "VYVjruyog77l",
        "colab_type": "code",
        "outputId": "ac38b8f1-22b4-4971-9772-986c3e61aa5e",
        "colab": {
          "base_uri": "https://localhost:8080/",
          "height": 170
        }
      },
      "source": [
        "print(classification_report(testY, y_pred))"
      ],
      "execution_count": 0,
      "outputs": [
        {
          "output_type": "stream",
          "text": [
            "              precision    recall  f1-score   support\n",
            "\n",
            "           0       0.90      1.00      0.94      4707\n",
            "           1       0.00      0.00      0.00       549\n",
            "\n",
            "    accuracy                           0.90      5256\n",
            "   macro avg       0.45      0.50      0.47      5256\n",
            "weighted avg       0.80      0.90      0.85      5256\n",
            "\n"
          ],
          "name": "stdout"
        }
      ]
    },
    {
      "cell_type": "code",
      "metadata": {
        "id": "bKoL2yzlrBDi",
        "colab_type": "code",
        "colab": {}
      },
      "source": [
        "rd_clf = RandomForestClassifier( random_state = 0 )"
      ],
      "execution_count": 0,
      "outputs": []
    },
    {
      "cell_type": "code",
      "metadata": {
        "id": "RQ8VO_cVrkx-",
        "colab_type": "code",
        "colab": {}
      },
      "source": [
        "\"\"\"random_grid = {'bootstrap': [True, False],\n",
        "               'max_depth': [10, 20, 30, 40, 50, 60, 70, 80, 90, 100, 110, None],\n",
        "               'max_features': ['auto', 'sqrt'],\n",
        "               'min_samples_leaf': [1, 2, 4],\n",
        "               'min_samples_split': [2, 5, 10],\n",
        "               'n_estimators': [130, 180, 230]}\"\"\""
      ],
      "execution_count": 0,
      "outputs": []
    },
    {
      "cell_type": "code",
      "metadata": {
        "id": "pMVIPyTEqt8F",
        "colab_type": "code",
        "colab": {}
      },
      "source": [
        "from sklearn.model_selection import RandomizedSearchCV\n",
        "from scipy.stats import randint as sp_randint\n",
        "# parameters for GridSearchCV\n",
        "# specify parameters and distributions to sample from\n",
        "param_dist = {\n",
        "              'n_estimators': [200, 300, 400, 500],\n",
        "              \"max_depth\": [5, 7,10],\n",
        "              \"max_features\": sp_randint(1, 11),\n",
        "              \"min_samples_split\": sp_randint(2, 11),\n",
        "              \"min_samples_leaf\": sp_randint(1, 11),\n",
        "             }\n",
        "# run randomized search\n",
        "n_iter_search = 20\n",
        "random_search = RandomizedSearchCV(rd_clf, param_distributions=param_dist,\n",
        "                                   n_iter=n_iter_search)"
      ],
      "execution_count": 0,
      "outputs": []
    },
    {
      "cell_type": "code",
      "metadata": {
        "id": "airXO1Tdqt2t",
        "colab_type": "code",
        "outputId": "bea99f1d-32bd-4d88-dc4c-e5501480dcf1",
        "colab": {
          "base_uri": "https://localhost:8080/",
          "height": 428
        }
      },
      "source": [
        "random_search.fit(trainX, trainY)"
      ],
      "execution_count": 0,
      "outputs": [
        {
          "output_type": "stream",
          "text": [
            "/usr/local/lib/python3.6/dist-packages/sklearn/model_selection/_split.py:1978: FutureWarning: The default value of cv will change from 3 to 5 in version 0.22. Specify it explicitly to silence this warning.\n",
            "  warnings.warn(CV_WARNING, FutureWarning)\n"
          ],
          "name": "stderr"
        },
        {
          "output_type": "execute_result",
          "data": {
            "text/plain": [
              "RandomizedSearchCV(cv='warn', error_score='raise-deprecating',\n",
              "                   estimator=RandomForestClassifier(bootstrap=True,\n",
              "                                                    class_weight=None,\n",
              "                                                    criterion='gini',\n",
              "                                                    max_depth=None,\n",
              "                                                    max_features='auto',\n",
              "                                                    max_leaf_nodes=None,\n",
              "                                                    min_impurity_decrease=0.0,\n",
              "                                                    min_impurity_split=None,\n",
              "                                                    min_samples_leaf=1,\n",
              "                                                    min_samples_split=2,\n",
              "                                                    min_weight_fraction_leaf=0.0,\n",
              "                                                    n_estimators='warn',\n",
              "                                                    n_jobs=None,\n",
              "                                                    o...\n",
              "                                        'max_features': <scipy.stats._distn_infrastructure.rv_frozen object at 0x7f5ba4f0ac88>,\n",
              "                                        'min_samples_leaf': <scipy.stats._distn_infrastructure.rv_frozen object at 0x7f5ba4f6ea58>,\n",
              "                                        'min_samples_split': <scipy.stats._distn_infrastructure.rv_frozen object at 0x7f5ba4f0a5f8>,\n",
              "                                        'n_estimators': [200, 300, 400, 500]},\n",
              "                   pre_dispatch='2*n_jobs', random_state=None, refit=True,\n",
              "                   return_train_score=False, scoring=None, verbose=0)"
            ]
          },
          "metadata": {
            "tags": []
          },
          "execution_count": 66
        }
      ]
    },
    {
      "cell_type": "code",
      "metadata": {
        "id": "o9tKtCLuqtwE",
        "colab_type": "code",
        "outputId": "4aaf6667-4047-446a-8580-45ff83c7d0a5",
        "colab": {
          "base_uri": "https://localhost:8080/",
          "height": 102
        }
      },
      "source": [
        "random_search.best_params_"
      ],
      "execution_count": 0,
      "outputs": [
        {
          "output_type": "execute_result",
          "data": {
            "text/plain": [
              "{'max_depth': 7,\n",
              " 'max_features': 6,\n",
              " 'min_samples_leaf': 2,\n",
              " 'min_samples_split': 10,\n",
              " 'n_estimators': 400}"
            ]
          },
          "metadata": {
            "tags": []
          },
          "execution_count": 71
        }
      ]
    },
    {
      "cell_type": "code",
      "metadata": {
        "id": "omUgUtCQYVNK",
        "colab_type": "code",
        "outputId": "53cded2c-193e-4d2e-e90a-53a2f876aadf",
        "colab": {
          "base_uri": "https://localhost:8080/",
          "height": 136
        }
      },
      "source": [
        "random_search.best_estimator_"
      ],
      "execution_count": 0,
      "outputs": [
        {
          "output_type": "execute_result",
          "data": {
            "text/plain": [
              "RandomForestClassifier(bootstrap=True, class_weight=None, criterion='gini',\n",
              "                       max_depth=7, max_features=6, max_leaf_nodes=None,\n",
              "                       min_impurity_decrease=0.0, min_impurity_split=None,\n",
              "                       min_samples_leaf=2, min_samples_split=10,\n",
              "                       min_weight_fraction_leaf=0.0, n_estimators=400,\n",
              "                       n_jobs=None, oob_score=False, random_state=0, verbose=0,\n",
              "                       warm_start=False)"
            ]
          },
          "metadata": {
            "tags": []
          },
          "execution_count": 73
        }
      ]
    },
    {
      "cell_type": "code",
      "metadata": {
        "id": "PLOw_iECqtn3",
        "colab_type": "code",
        "colab": {}
      },
      "source": [
        "y_pred2 = random_search.predict(testX)"
      ],
      "execution_count": 0,
      "outputs": []
    },
    {
      "cell_type": "code",
      "metadata": {
        "id": "h4uNAWAYqtfj",
        "colab_type": "code",
        "outputId": "3cc92731-9933-4ae9-f787-6e79926ba593",
        "colab": {
          "base_uri": "https://localhost:8080/",
          "height": 224
        }
      },
      "source": [
        "print(classification_report(testY, y_pred2))"
      ],
      "execution_count": 0,
      "outputs": [
        {
          "output_type": "stream",
          "text": [
            "              precision    recall  f1-score   support\n",
            "\n",
            "           0       0.90      1.00      0.94      4707\n",
            "           1       0.00      0.00      0.00       549\n",
            "\n",
            "    accuracy                           0.90      5256\n",
            "   macro avg       0.45      0.50      0.47      5256\n",
            "weighted avg       0.80      0.90      0.85      5256\n",
            "\n"
          ],
          "name": "stdout"
        },
        {
          "output_type": "stream",
          "text": [
            "/usr/local/lib/python3.6/dist-packages/sklearn/metrics/classification.py:1437: UndefinedMetricWarning: Precision and F-score are ill-defined and being set to 0.0 in labels with no predicted samples.\n",
            "  'precision', 'predicted', average, warn_for)\n"
          ],
          "name": "stderr"
        }
      ]
    },
    {
      "cell_type": "markdown",
      "metadata": {
        "id": "3PYgLDscZNmR",
        "colab_type": "text"
      },
      "source": [
        "## Results"
      ]
    },
    {
      "cell_type": "code",
      "metadata": {
        "id": "SGqJwK7UZLeh",
        "colab_type": "code",
        "colab": {}
      },
      "source": [
        "from sklearn.ensemble import RandomForestClassifier\n",
        "clf = RandomForestClassifier( max_depth=7, min_samples_leaf=2, min_samples_split=10,\n",
        "                        n_estimators=400, random_state=0, verbose=0)"
      ],
      "execution_count": 0,
      "outputs": []
    },
    {
      "cell_type": "code",
      "metadata": {
        "id": "_1t2tBc6ZLxv",
        "colab_type": "code",
        "outputId": "6c0ab036-2239-498e-e200-85ed020dd199",
        "colab": {
          "base_uri": "https://localhost:8080/",
          "height": 136
        }
      },
      "source": [
        "clf.fit(X_imp, Y)"
      ],
      "execution_count": 0,
      "outputs": [
        {
          "output_type": "execute_result",
          "data": {
            "text/plain": [
              "RandomForestClassifier(bootstrap=True, class_weight=None, criterion='gini',\n",
              "                       max_depth=7, max_features='auto', max_leaf_nodes=None,\n",
              "                       min_impurity_decrease=0.0, min_impurity_split=None,\n",
              "                       min_samples_leaf=2, min_samples_split=10,\n",
              "                       min_weight_fraction_leaf=0.0, n_estimators=400,\n",
              "                       n_jobs=None, oob_score=False, random_state=0, verbose=0,\n",
              "                       warm_start=False)"
            ]
          },
          "metadata": {
            "tags": []
          },
          "execution_count": 45
        }
      ]
    },
    {
      "cell_type": "code",
      "metadata": {
        "id": "z9JwmW5SZMDt",
        "colab_type": "code",
        "outputId": "22776b23-9b26-4407-b09a-51867b05b501",
        "colab": {
          "base_uri": "https://localhost:8080/",
          "height": 287
        }
      },
      "source": [
        "data2 = pd.read_csv(mainPath+read_path + \"Test.csv\")\n",
        "data2.head()"
      ],
      "execution_count": 0,
      "outputs": [
        {
          "output_type": "stream",
          "text": [
            "/usr/local/lib/python3.6/dist-packages/IPython/core/interactiveshell.py:2718: DtypeWarning: Columns (700,731,740,752,761,789,811,820,829,841,850) have mixed types. Specify dtype option on import or set low_memory=False.\n",
            "  interactivity=interactivity, compiler=compiler, result=result)\n"
          ],
          "name": "stderr"
        },
        {
          "output_type": "execute_result",
          "data": {
            "text/html": [
              "<div>\n",
              "<style scoped>\n",
              "    .dataframe tbody tr th:only-of-type {\n",
              "        vertical-align: middle;\n",
              "    }\n",
              "\n",
              "    .dataframe tbody tr th {\n",
              "        vertical-align: top;\n",
              "    }\n",
              "\n",
              "    .dataframe thead th {\n",
              "        text-align: right;\n",
              "    }\n",
              "</style>\n",
              "<table border=\"1\" class=\"dataframe\">\n",
              "  <thead>\n",
              "    <tr style=\"text-align: right;\">\n",
              "      <th></th>\n",
              "      <th>Col1</th>\n",
              "      <th>Col3</th>\n",
              "      <th>Col4</th>\n",
              "      <th>Col5</th>\n",
              "      <th>Col6</th>\n",
              "      <th>Col7</th>\n",
              "      <th>Col8</th>\n",
              "      <th>Col9</th>\n",
              "      <th>Col10</th>\n",
              "      <th>Col11</th>\n",
              "      <th>Col12</th>\n",
              "      <th>Col13</th>\n",
              "      <th>Col14</th>\n",
              "      <th>Col15</th>\n",
              "      <th>Col16</th>\n",
              "      <th>Col17</th>\n",
              "      <th>Col18</th>\n",
              "      <th>Col19</th>\n",
              "      <th>Col20</th>\n",
              "      <th>Col21</th>\n",
              "      <th>Col22</th>\n",
              "      <th>Col23</th>\n",
              "      <th>Col24</th>\n",
              "      <th>Col25</th>\n",
              "      <th>Col26</th>\n",
              "      <th>Col27</th>\n",
              "      <th>Col28</th>\n",
              "      <th>Col29</th>\n",
              "      <th>Col30</th>\n",
              "      <th>Col31</th>\n",
              "      <th>Col32</th>\n",
              "      <th>Col33</th>\n",
              "      <th>Col34</th>\n",
              "      <th>Col35</th>\n",
              "      <th>Col36</th>\n",
              "      <th>Col37</th>\n",
              "      <th>Col38</th>\n",
              "      <th>Col39</th>\n",
              "      <th>Col40</th>\n",
              "      <th>Col41</th>\n",
              "      <th>...</th>\n",
              "      <th>Col2358</th>\n",
              "      <th>Col2359</th>\n",
              "      <th>Col2360</th>\n",
              "      <th>Col2361</th>\n",
              "      <th>Col2362</th>\n",
              "      <th>Col2363</th>\n",
              "      <th>Col2364</th>\n",
              "      <th>Col2365</th>\n",
              "      <th>Col2366</th>\n",
              "      <th>Col2367</th>\n",
              "      <th>Col2368</th>\n",
              "      <th>Col2369</th>\n",
              "      <th>Col2370</th>\n",
              "      <th>Col2371</th>\n",
              "      <th>Col2372</th>\n",
              "      <th>Col2373</th>\n",
              "      <th>Col2374</th>\n",
              "      <th>Col2375</th>\n",
              "      <th>Col2376</th>\n",
              "      <th>Col2377</th>\n",
              "      <th>Col2378</th>\n",
              "      <th>Col2379</th>\n",
              "      <th>Col2380</th>\n",
              "      <th>Col2381</th>\n",
              "      <th>Col2382</th>\n",
              "      <th>Col2383</th>\n",
              "      <th>Col2384</th>\n",
              "      <th>Col2385</th>\n",
              "      <th>Col2386</th>\n",
              "      <th>Col2387</th>\n",
              "      <th>Col2388</th>\n",
              "      <th>Col2389</th>\n",
              "      <th>Col2390</th>\n",
              "      <th>Col2391</th>\n",
              "      <th>Col2392</th>\n",
              "      <th>Col2393</th>\n",
              "      <th>Col2394</th>\n",
              "      <th>Col2395</th>\n",
              "      <th>Col2396</th>\n",
              "      <th>Col2397</th>\n",
              "    </tr>\n",
              "  </thead>\n",
              "  <tbody>\n",
              "    <tr>\n",
              "      <th>0</th>\n",
              "      <td>RIGD58ZWD</td>\n",
              "      <td>8.167140e+04</td>\n",
              "      <td>8.614542e+04</td>\n",
              "      <td>7.532296e+04</td>\n",
              "      <td>7.532296e+04</td>\n",
              "      <td>1.125174e+05</td>\n",
              "      <td>1.002778e+05</td>\n",
              "      <td>2.038915e+04</td>\n",
              "      <td>3.053853e+04</td>\n",
              "      <td>8.395911e+04</td>\n",
              "      <td>8.138800e+04</td>\n",
              "      <td>11.310459</td>\n",
              "      <td>11.630863</td>\n",
              "      <td>11.515700</td>\n",
              "      <td>11.229540</td>\n",
              "      <td>1.143681</td>\n",
              "      <td>0.879545</td>\n",
              "      <td>NaN</td>\n",
              "      <td>NaN</td>\n",
              "      <td>0.236683</td>\n",
              "      <td>0.746188</td>\n",
              "      <td>0.405435</td>\n",
              "      <td>0.811625</td>\n",
              "      <td>0.086109</td>\n",
              "      <td>0.238817</td>\n",
              "      <td>0.150242</td>\n",
              "      <td>NaN</td>\n",
              "      <td>3</td>\n",
              "      <td>3</td>\n",
              "      <td>6</td>\n",
              "      <td>6</td>\n",
              "      <td>6</td>\n",
              "      <td>0</td>\n",
              "      <td>1</td>\n",
              "      <td>5</td>\n",
              "      <td>19.0</td>\n",
              "      <td>NaN</td>\n",
              "      <td>NaN</td>\n",
              "      <td>39.0</td>\n",
              "      <td>NaN</td>\n",
              "      <td>...</td>\n",
              "      <td>0</td>\n",
              "      <td>0</td>\n",
              "      <td>0</td>\n",
              "      <td>0</td>\n",
              "      <td>0</td>\n",
              "      <td>0</td>\n",
              "      <td>0</td>\n",
              "      <td>0</td>\n",
              "      <td>0</td>\n",
              "      <td>0</td>\n",
              "      <td>0</td>\n",
              "      <td>0</td>\n",
              "      <td>1</td>\n",
              "      <td>1</td>\n",
              "      <td>1</td>\n",
              "      <td>1</td>\n",
              "      <td>0</td>\n",
              "      <td>0</td>\n",
              "      <td>0</td>\n",
              "      <td>0</td>\n",
              "      <td>0</td>\n",
              "      <td>0</td>\n",
              "      <td>0</td>\n",
              "      <td>0</td>\n",
              "      <td>0</td>\n",
              "      <td>0</td>\n",
              "      <td>0</td>\n",
              "      <td>0</td>\n",
              "      <td>0</td>\n",
              "      <td>0</td>\n",
              "      <td>0</td>\n",
              "      <td>0</td>\n",
              "      <td>0</td>\n",
              "      <td>0</td>\n",
              "      <td>44.0</td>\n",
              "      <td>44.0</td>\n",
              "      <td>23.0</td>\n",
              "      <td>41.0</td>\n",
              "      <td>41.0</td>\n",
              "      <td>36.0</td>\n",
              "    </tr>\n",
              "    <tr>\n",
              "      <th>1</th>\n",
              "      <td>RIH660YDS</td>\n",
              "      <td>-1.362824e+07</td>\n",
              "      <td>-4.493043e+06</td>\n",
              "      <td>-3.777257e+06</td>\n",
              "      <td>-4.493043e+06</td>\n",
              "      <td>-4.749764e+06</td>\n",
              "      <td>-4.749764e+06</td>\n",
              "      <td>1.147556e+07</td>\n",
              "      <td>1.147556e+07</td>\n",
              "      <td>1.272055e+07</td>\n",
              "      <td>1.272055e+07</td>\n",
              "      <td>NaN</td>\n",
              "      <td>NaN</td>\n",
              "      <td>NaN</td>\n",
              "      <td>NaN</td>\n",
              "      <td>NaN</td>\n",
              "      <td>-2.935756</td>\n",
              "      <td>-232.140528</td>\n",
              "      <td>-94.995287</td>\n",
              "      <td>NaN</td>\n",
              "      <td>NaN</td>\n",
              "      <td>NaN</td>\n",
              "      <td>NaN</td>\n",
              "      <td>-0.483522</td>\n",
              "      <td>-0.308259</td>\n",
              "      <td>-0.742190</td>\n",
              "      <td>NaN</td>\n",
              "      <td>6</td>\n",
              "      <td>5</td>\n",
              "      <td>7</td>\n",
              "      <td>19</td>\n",
              "      <td>9</td>\n",
              "      <td>0</td>\n",
              "      <td>2</td>\n",
              "      <td>6</td>\n",
              "      <td>2.0</td>\n",
              "      <td>0.0</td>\n",
              "      <td>NaN</td>\n",
              "      <td>5.0</td>\n",
              "      <td>4.0</td>\n",
              "      <td>...</td>\n",
              "      <td>0</td>\n",
              "      <td>0</td>\n",
              "      <td>1</td>\n",
              "      <td>0</td>\n",
              "      <td>0</td>\n",
              "      <td>0</td>\n",
              "      <td>2</td>\n",
              "      <td>2</td>\n",
              "      <td>1</td>\n",
              "      <td>1</td>\n",
              "      <td>0</td>\n",
              "      <td>0</td>\n",
              "      <td>1</td>\n",
              "      <td>2</td>\n",
              "      <td>1</td>\n",
              "      <td>1</td>\n",
              "      <td>2</td>\n",
              "      <td>1</td>\n",
              "      <td>1</td>\n",
              "      <td>1</td>\n",
              "      <td>2</td>\n",
              "      <td>1</td>\n",
              "      <td>3</td>\n",
              "      <td>1</td>\n",
              "      <td>2</td>\n",
              "      <td>1</td>\n",
              "      <td>0</td>\n",
              "      <td>0</td>\n",
              "      <td>1</td>\n",
              "      <td>1</td>\n",
              "      <td>1</td>\n",
              "      <td>1</td>\n",
              "      <td>2</td>\n",
              "      <td>2</td>\n",
              "      <td>1234.0</td>\n",
              "      <td>1234.0</td>\n",
              "      <td>680.0</td>\n",
              "      <td>154.0</td>\n",
              "      <td>153.0</td>\n",
              "      <td>86.0</td>\n",
              "    </tr>\n",
              "    <tr>\n",
              "      <th>2</th>\n",
              "      <td>RIH660Q96</td>\n",
              "      <td>1.302700e+06</td>\n",
              "      <td>1.341449e+06</td>\n",
              "      <td>1.240085e+06</td>\n",
              "      <td>1.341449e+06</td>\n",
              "      <td>1.477503e+06</td>\n",
              "      <td>1.477503e+06</td>\n",
              "      <td>3.904086e+05</td>\n",
              "      <td>3.904086e+05</td>\n",
              "      <td>4.979106e+05</td>\n",
              "      <td>4.979106e+05</td>\n",
              "      <td>14.079949</td>\n",
              "      <td>14.205864</td>\n",
              "      <td>14.205864</td>\n",
              "      <td>14.109261</td>\n",
              "      <td>1.081739</td>\n",
              "      <td>0.943850</td>\n",
              "      <td>2.122872</td>\n",
              "      <td>0.857057</td>\n",
              "      <td>0.291035</td>\n",
              "      <td>0.336995</td>\n",
              "      <td>0.291035</td>\n",
              "      <td>0.336995</td>\n",
              "      <td>-0.108229</td>\n",
              "      <td>-0.095389</td>\n",
              "      <td>-0.053413</td>\n",
              "      <td>NaN</td>\n",
              "      <td>2</td>\n",
              "      <td>2</td>\n",
              "      <td>2</td>\n",
              "      <td>3</td>\n",
              "      <td>1</td>\n",
              "      <td>0</td>\n",
              "      <td>1</td>\n",
              "      <td>6</td>\n",
              "      <td>NaN</td>\n",
              "      <td>NaN</td>\n",
              "      <td>NaN</td>\n",
              "      <td>NaN</td>\n",
              "      <td>5.0</td>\n",
              "      <td>...</td>\n",
              "      <td>0</td>\n",
              "      <td>0</td>\n",
              "      <td>0</td>\n",
              "      <td>0</td>\n",
              "      <td>0</td>\n",
              "      <td>0</td>\n",
              "      <td>0</td>\n",
              "      <td>0</td>\n",
              "      <td>1</td>\n",
              "      <td>0</td>\n",
              "      <td>2</td>\n",
              "      <td>1</td>\n",
              "      <td>0</td>\n",
              "      <td>1</td>\n",
              "      <td>0</td>\n",
              "      <td>0</td>\n",
              "      <td>0</td>\n",
              "      <td>0</td>\n",
              "      <td>2</td>\n",
              "      <td>1</td>\n",
              "      <td>2</td>\n",
              "      <td>1</td>\n",
              "      <td>0</td>\n",
              "      <td>0</td>\n",
              "      <td>0</td>\n",
              "      <td>0</td>\n",
              "      <td>0</td>\n",
              "      <td>0</td>\n",
              "      <td>0</td>\n",
              "      <td>0</td>\n",
              "      <td>0</td>\n",
              "      <td>0</td>\n",
              "      <td>0</td>\n",
              "      <td>0</td>\n",
              "      <td>33.0</td>\n",
              "      <td>24.0</td>\n",
              "      <td>19.0</td>\n",
              "      <td>3.0</td>\n",
              "      <td>1.0</td>\n",
              "      <td>1.0</td>\n",
              "    </tr>\n",
              "    <tr>\n",
              "      <th>3</th>\n",
              "      <td>RIYDO15W1</td>\n",
              "      <td>1.932258e+05</td>\n",
              "      <td>1.454433e+05</td>\n",
              "      <td>1.929148e+05</td>\n",
              "      <td>1.454433e+05</td>\n",
              "      <td>1.318250e+04</td>\n",
              "      <td>1.318250e+04</td>\n",
              "      <td>8.650108e+04</td>\n",
              "      <td>8.650108e+04</td>\n",
              "      <td>5.896693e+03</td>\n",
              "      <td>5.896693e+03</td>\n",
              "      <td>12.171615</td>\n",
              "      <td>9.486645</td>\n",
              "      <td>9.486645</td>\n",
              "      <td>11.887541</td>\n",
              "      <td>0.753925</td>\n",
              "      <td>1.978542</td>\n",
              "      <td>NaN</td>\n",
              "      <td>NaN</td>\n",
              "      <td>0.594741</td>\n",
              "      <td>0.447312</td>\n",
              "      <td>0.594741</td>\n",
              "      <td>0.447312</td>\n",
              "      <td>0.441902</td>\n",
              "      <td>0.383241</td>\n",
              "      <td>0.681768</td>\n",
              "      <td>NaN</td>\n",
              "      <td>4</td>\n",
              "      <td>4</td>\n",
              "      <td>5</td>\n",
              "      <td>5</td>\n",
              "      <td>5</td>\n",
              "      <td>0</td>\n",
              "      <td>1</td>\n",
              "      <td>6</td>\n",
              "      <td>6.0</td>\n",
              "      <td>5.0</td>\n",
              "      <td>NaN</td>\n",
              "      <td>1.0</td>\n",
              "      <td>NaN</td>\n",
              "      <td>...</td>\n",
              "      <td>0</td>\n",
              "      <td>0</td>\n",
              "      <td>0</td>\n",
              "      <td>0</td>\n",
              "      <td>0</td>\n",
              "      <td>0</td>\n",
              "      <td>0</td>\n",
              "      <td>0</td>\n",
              "      <td>0</td>\n",
              "      <td>0</td>\n",
              "      <td>0</td>\n",
              "      <td>0</td>\n",
              "      <td>0</td>\n",
              "      <td>1</td>\n",
              "      <td>0</td>\n",
              "      <td>0</td>\n",
              "      <td>0</td>\n",
              "      <td>0</td>\n",
              "      <td>0</td>\n",
              "      <td>0</td>\n",
              "      <td>0</td>\n",
              "      <td>0</td>\n",
              "      <td>0</td>\n",
              "      <td>0</td>\n",
              "      <td>0</td>\n",
              "      <td>0</td>\n",
              "      <td>0</td>\n",
              "      <td>0</td>\n",
              "      <td>0</td>\n",
              "      <td>0</td>\n",
              "      <td>0</td>\n",
              "      <td>0</td>\n",
              "      <td>0</td>\n",
              "      <td>0</td>\n",
              "      <td>8.0</td>\n",
              "      <td>8.0</td>\n",
              "      <td>3.0</td>\n",
              "      <td>7.0</td>\n",
              "      <td>7.0</td>\n",
              "      <td>3.0</td>\n",
              "    </tr>\n",
              "    <tr>\n",
              "      <th>4</th>\n",
              "      <td>RIYBGC1ZD</td>\n",
              "      <td>3.913385e+05</td>\n",
              "      <td>1.987337e+05</td>\n",
              "      <td>1.703432e+05</td>\n",
              "      <td>1.987337e+05</td>\n",
              "      <td>3.046536e+05</td>\n",
              "      <td>3.046536e+05</td>\n",
              "      <td>2.528307e+05</td>\n",
              "      <td>2.528307e+05</td>\n",
              "      <td>3.034449e+05</td>\n",
              "      <td>3.034449e+05</td>\n",
              "      <td>12.877328</td>\n",
              "      <td>12.626931</td>\n",
              "      <td>12.626931</td>\n",
              "      <td>12.199721</td>\n",
              "      <td>1.166667</td>\n",
              "      <td>63.849949</td>\n",
              "      <td>NaN</td>\n",
              "      <td>NaN</td>\n",
              "      <td>1.272208</td>\n",
              "      <td>0.996032</td>\n",
              "      <td>1.272208</td>\n",
              "      <td>0.996032</td>\n",
              "      <td>0.507021</td>\n",
              "      <td>0.539030</td>\n",
              "      <td>0.742665</td>\n",
              "      <td>NaN</td>\n",
              "      <td>1</td>\n",
              "      <td>1</td>\n",
              "      <td>1</td>\n",
              "      <td>1</td>\n",
              "      <td>1</td>\n",
              "      <td>0</td>\n",
              "      <td>1</td>\n",
              "      <td>6</td>\n",
              "      <td>NaN</td>\n",
              "      <td>NaN</td>\n",
              "      <td>NaN</td>\n",
              "      <td>NaN</td>\n",
              "      <td>NaN</td>\n",
              "      <td>...</td>\n",
              "      <td>0</td>\n",
              "      <td>0</td>\n",
              "      <td>0</td>\n",
              "      <td>0</td>\n",
              "      <td>0</td>\n",
              "      <td>0</td>\n",
              "      <td>0</td>\n",
              "      <td>0</td>\n",
              "      <td>0</td>\n",
              "      <td>0</td>\n",
              "      <td>0</td>\n",
              "      <td>0</td>\n",
              "      <td>0</td>\n",
              "      <td>0</td>\n",
              "      <td>0</td>\n",
              "      <td>0</td>\n",
              "      <td>0</td>\n",
              "      <td>0</td>\n",
              "      <td>0</td>\n",
              "      <td>0</td>\n",
              "      <td>0</td>\n",
              "      <td>0</td>\n",
              "      <td>0</td>\n",
              "      <td>0</td>\n",
              "      <td>0</td>\n",
              "      <td>0</td>\n",
              "      <td>0</td>\n",
              "      <td>0</td>\n",
              "      <td>0</td>\n",
              "      <td>0</td>\n",
              "      <td>0</td>\n",
              "      <td>0</td>\n",
              "      <td>0</td>\n",
              "      <td>0</td>\n",
              "      <td>7.0</td>\n",
              "      <td>7.0</td>\n",
              "      <td>7.0</td>\n",
              "      <td>6.0</td>\n",
              "      <td>6.0</td>\n",
              "      <td>5.0</td>\n",
              "    </tr>\n",
              "  </tbody>\n",
              "</table>\n",
              "<p>5 rows × 2394 columns</p>\n",
              "</div>"
            ],
            "text/plain": [
              "        Col1          Col3          Col4  ...  Col2395  Col2396  Col2397\n",
              "0  RIGD58ZWD  8.167140e+04  8.614542e+04  ...     41.0     41.0     36.0\n",
              "1  RIH660YDS -1.362824e+07 -4.493043e+06  ...    154.0    153.0     86.0\n",
              "2  RIH660Q96  1.302700e+06  1.341449e+06  ...      3.0      1.0      1.0\n",
              "3  RIYDO15W1  1.932258e+05  1.454433e+05  ...      7.0      7.0      3.0\n",
              "4  RIYBGC1ZD  3.913385e+05  1.987337e+05  ...      6.0      6.0      5.0\n",
              "\n",
              "[5 rows x 2394 columns]"
            ]
          },
          "metadata": {
            "tags": []
          },
          "execution_count": 46
        }
      ]
    },
    {
      "cell_type": "code",
      "metadata": {
        "id": "SxJxk6RLZMi5",
        "colab_type": "code",
        "outputId": "37f9df52-dff4-48ec-9a48-38b80725b9b7",
        "colab": {
          "base_uri": "https://localhost:8080/",
          "height": 34
        }
      },
      "source": [
        "data2.shape"
      ],
      "execution_count": 0,
      "outputs": [
        {
          "output_type": "execute_result",
          "data": {
            "text/plain": [
              "(20442, 2394)"
            ]
          },
          "metadata": {
            "tags": []
          },
          "execution_count": 47
        }
      ]
    },
    {
      "cell_type": "code",
      "metadata": {
        "id": "YdUiDRrwbsn9",
        "colab_type": "code",
        "outputId": "fc1099e8-63a4-468f-8523-6af9d6256cdd",
        "colab": {
          "base_uri": "https://localhost:8080/",
          "height": 163
        }
      },
      "source": [
        "remove_col2.remove('Col2')"
      ],
      "execution_count": 0,
      "outputs": [
        {
          "output_type": "error",
          "ename": "ValueError",
          "evalue": "ignored",
          "traceback": [
            "\u001b[0;31m---------------------------------------------------------------------------\u001b[0m",
            "\u001b[0;31mValueError\u001b[0m                                Traceback (most recent call last)",
            "\u001b[0;32m<ipython-input-48-c76f1acaa803>\u001b[0m in \u001b[0;36m<module>\u001b[0;34m()\u001b[0m\n\u001b[0;32m----> 1\u001b[0;31m \u001b[0mremove_col2\u001b[0m\u001b[0;34m.\u001b[0m\u001b[0mremove\u001b[0m\u001b[0;34m(\u001b[0m\u001b[0;34m'Col2'\u001b[0m\u001b[0;34m)\u001b[0m\u001b[0;34m\u001b[0m\u001b[0;34m\u001b[0m\u001b[0m\n\u001b[0m",
            "\u001b[0;31mValueError\u001b[0m: list.remove(x): x not in list"
          ]
        }
      ]
    },
    {
      "cell_type": "code",
      "metadata": {
        "id": "mnmKGQQjZMdM",
        "colab_type": "code",
        "colab": {}
      },
      "source": [
        "df2 = data2[remove_col2]"
      ],
      "execution_count": 0,
      "outputs": []
    },
    {
      "cell_type": "code",
      "metadata": {
        "id": "ygq1qsrnbsfU",
        "colab_type": "code",
        "outputId": "b4d04f9d-ca45-4e96-e031-3dbf74a83141",
        "colab": {
          "base_uri": "https://localhost:8080/",
          "height": 34
        }
      },
      "source": [
        "df2.shape"
      ],
      "execution_count": 0,
      "outputs": [
        {
          "output_type": "execute_result",
          "data": {
            "text/plain": [
              "(20442, 2165)"
            ]
          },
          "metadata": {
            "tags": []
          },
          "execution_count": 50
        }
      ]
    },
    {
      "cell_type": "code",
      "metadata": {
        "id": "6Yv7ldw4ZMU9",
        "colab_type": "code",
        "outputId": "e3789985-7b48-4b56-d1f9-adb4a9a15eeb",
        "colab": {
          "base_uri": "https://localhost:8080/",
          "height": 102
        }
      },
      "source": [
        "df2.drop(['Col1'], inplace = True, axis = 1)"
      ],
      "execution_count": 0,
      "outputs": [
        {
          "output_type": "stream",
          "text": [
            "/usr/local/lib/python3.6/dist-packages/pandas/core/frame.py:3940: SettingWithCopyWarning: \n",
            "A value is trying to be set on a copy of a slice from a DataFrame\n",
            "\n",
            "See the caveats in the documentation: http://pandas.pydata.org/pandas-docs/stable/indexing.html#indexing-view-versus-copy\n",
            "  errors=errors)\n"
          ],
          "name": "stderr"
        }
      ]
    },
    {
      "cell_type": "code",
      "metadata": {
        "id": "xUjos43Vc8Sa",
        "colab_type": "code",
        "outputId": "4cf679a5-ecc3-415d-f3b3-25109c09579d",
        "colab": {
          "base_uri": "https://localhost:8080/",
          "height": 253
        }
      },
      "source": [
        "df2.head()"
      ],
      "execution_count": 0,
      "outputs": [
        {
          "output_type": "execute_result",
          "data": {
            "text/html": [
              "<div>\n",
              "<style scoped>\n",
              "    .dataframe tbody tr th:only-of-type {\n",
              "        vertical-align: middle;\n",
              "    }\n",
              "\n",
              "    .dataframe tbody tr th {\n",
              "        vertical-align: top;\n",
              "    }\n",
              "\n",
              "    .dataframe thead th {\n",
              "        text-align: right;\n",
              "    }\n",
              "</style>\n",
              "<table border=\"1\" class=\"dataframe\">\n",
              "  <thead>\n",
              "    <tr style=\"text-align: right;\">\n",
              "      <th></th>\n",
              "      <th>Col3</th>\n",
              "      <th>Col4</th>\n",
              "      <th>Col5</th>\n",
              "      <th>Col6</th>\n",
              "      <th>Col7</th>\n",
              "      <th>Col8</th>\n",
              "      <th>Col9</th>\n",
              "      <th>Col10</th>\n",
              "      <th>Col11</th>\n",
              "      <th>Col12</th>\n",
              "      <th>Col13</th>\n",
              "      <th>Col14</th>\n",
              "      <th>Col15</th>\n",
              "      <th>Col16</th>\n",
              "      <th>Col17</th>\n",
              "      <th>Col18</th>\n",
              "      <th>Col21</th>\n",
              "      <th>Col22</th>\n",
              "      <th>Col23</th>\n",
              "      <th>Col24</th>\n",
              "      <th>Col25</th>\n",
              "      <th>Col26</th>\n",
              "      <th>Col27</th>\n",
              "      <th>Col29</th>\n",
              "      <th>Col30</th>\n",
              "      <th>Col31</th>\n",
              "      <th>Col32</th>\n",
              "      <th>Col33</th>\n",
              "      <th>Col34</th>\n",
              "      <th>Col35</th>\n",
              "      <th>Col36</th>\n",
              "      <th>Col42</th>\n",
              "      <th>Col43</th>\n",
              "      <th>Col44</th>\n",
              "      <th>Col45</th>\n",
              "      <th>Col46</th>\n",
              "      <th>Col47</th>\n",
              "      <th>Col48</th>\n",
              "      <th>Col49</th>\n",
              "      <th>Col50</th>\n",
              "      <th>...</th>\n",
              "      <th>Col2358</th>\n",
              "      <th>Col2359</th>\n",
              "      <th>Col2360</th>\n",
              "      <th>Col2361</th>\n",
              "      <th>Col2362</th>\n",
              "      <th>Col2363</th>\n",
              "      <th>Col2364</th>\n",
              "      <th>Col2365</th>\n",
              "      <th>Col2366</th>\n",
              "      <th>Col2367</th>\n",
              "      <th>Col2368</th>\n",
              "      <th>Col2369</th>\n",
              "      <th>Col2370</th>\n",
              "      <th>Col2371</th>\n",
              "      <th>Col2372</th>\n",
              "      <th>Col2373</th>\n",
              "      <th>Col2374</th>\n",
              "      <th>Col2375</th>\n",
              "      <th>Col2376</th>\n",
              "      <th>Col2377</th>\n",
              "      <th>Col2378</th>\n",
              "      <th>Col2379</th>\n",
              "      <th>Col2380</th>\n",
              "      <th>Col2381</th>\n",
              "      <th>Col2382</th>\n",
              "      <th>Col2383</th>\n",
              "      <th>Col2384</th>\n",
              "      <th>Col2385</th>\n",
              "      <th>Col2386</th>\n",
              "      <th>Col2387</th>\n",
              "      <th>Col2388</th>\n",
              "      <th>Col2389</th>\n",
              "      <th>Col2390</th>\n",
              "      <th>Col2391</th>\n",
              "      <th>Col2392</th>\n",
              "      <th>Col2393</th>\n",
              "      <th>Col2394</th>\n",
              "      <th>Col2395</th>\n",
              "      <th>Col2396</th>\n",
              "      <th>Col2397</th>\n",
              "    </tr>\n",
              "  </thead>\n",
              "  <tbody>\n",
              "    <tr>\n",
              "      <th>0</th>\n",
              "      <td>8.167140e+04</td>\n",
              "      <td>8.614542e+04</td>\n",
              "      <td>7.532296e+04</td>\n",
              "      <td>7.532296e+04</td>\n",
              "      <td>1.125174e+05</td>\n",
              "      <td>1.002778e+05</td>\n",
              "      <td>2.038915e+04</td>\n",
              "      <td>3.053853e+04</td>\n",
              "      <td>8.395911e+04</td>\n",
              "      <td>8.138800e+04</td>\n",
              "      <td>11.310459</td>\n",
              "      <td>11.630863</td>\n",
              "      <td>11.515700</td>\n",
              "      <td>11.229540</td>\n",
              "      <td>1.143681</td>\n",
              "      <td>0.879545</td>\n",
              "      <td>0.236683</td>\n",
              "      <td>0.746188</td>\n",
              "      <td>0.405435</td>\n",
              "      <td>0.811625</td>\n",
              "      <td>0.086109</td>\n",
              "      <td>0.238817</td>\n",
              "      <td>0.150242</td>\n",
              "      <td>3</td>\n",
              "      <td>3</td>\n",
              "      <td>6</td>\n",
              "      <td>6</td>\n",
              "      <td>6</td>\n",
              "      <td>0</td>\n",
              "      <td>1</td>\n",
              "      <td>5</td>\n",
              "      <td>1.665000</td>\n",
              "      <td>1.665000</td>\n",
              "      <td>2</td>\n",
              "      <td>2</td>\n",
              "      <td>2</td>\n",
              "      <td>2</td>\n",
              "      <td>2</td>\n",
              "      <td>1</td>\n",
              "      <td>0</td>\n",
              "      <td>...</td>\n",
              "      <td>0</td>\n",
              "      <td>0</td>\n",
              "      <td>0</td>\n",
              "      <td>0</td>\n",
              "      <td>0</td>\n",
              "      <td>0</td>\n",
              "      <td>0</td>\n",
              "      <td>0</td>\n",
              "      <td>0</td>\n",
              "      <td>0</td>\n",
              "      <td>0</td>\n",
              "      <td>0</td>\n",
              "      <td>1</td>\n",
              "      <td>1</td>\n",
              "      <td>1</td>\n",
              "      <td>1</td>\n",
              "      <td>0</td>\n",
              "      <td>0</td>\n",
              "      <td>0</td>\n",
              "      <td>0</td>\n",
              "      <td>0</td>\n",
              "      <td>0</td>\n",
              "      <td>0</td>\n",
              "      <td>0</td>\n",
              "      <td>0</td>\n",
              "      <td>0</td>\n",
              "      <td>0</td>\n",
              "      <td>0</td>\n",
              "      <td>0</td>\n",
              "      <td>0</td>\n",
              "      <td>0</td>\n",
              "      <td>0</td>\n",
              "      <td>0</td>\n",
              "      <td>0</td>\n",
              "      <td>44.0</td>\n",
              "      <td>44.0</td>\n",
              "      <td>23.0</td>\n",
              "      <td>41.0</td>\n",
              "      <td>41.0</td>\n",
              "      <td>36.0</td>\n",
              "    </tr>\n",
              "    <tr>\n",
              "      <th>1</th>\n",
              "      <td>-1.362824e+07</td>\n",
              "      <td>-4.493043e+06</td>\n",
              "      <td>-3.777257e+06</td>\n",
              "      <td>-4.493043e+06</td>\n",
              "      <td>-4.749764e+06</td>\n",
              "      <td>-4.749764e+06</td>\n",
              "      <td>1.147556e+07</td>\n",
              "      <td>1.147556e+07</td>\n",
              "      <td>1.272055e+07</td>\n",
              "      <td>1.272055e+07</td>\n",
              "      <td>NaN</td>\n",
              "      <td>NaN</td>\n",
              "      <td>NaN</td>\n",
              "      <td>NaN</td>\n",
              "      <td>NaN</td>\n",
              "      <td>-2.935756</td>\n",
              "      <td>NaN</td>\n",
              "      <td>NaN</td>\n",
              "      <td>NaN</td>\n",
              "      <td>NaN</td>\n",
              "      <td>-0.483522</td>\n",
              "      <td>-0.308259</td>\n",
              "      <td>-0.742190</td>\n",
              "      <td>6</td>\n",
              "      <td>5</td>\n",
              "      <td>7</td>\n",
              "      <td>19</td>\n",
              "      <td>9</td>\n",
              "      <td>0</td>\n",
              "      <td>2</td>\n",
              "      <td>6</td>\n",
              "      <td>-126.895000</td>\n",
              "      <td>-126.895000</td>\n",
              "      <td>3</td>\n",
              "      <td>2</td>\n",
              "      <td>3</td>\n",
              "      <td>2</td>\n",
              "      <td>2</td>\n",
              "      <td>2</td>\n",
              "      <td>2</td>\n",
              "      <td>...</td>\n",
              "      <td>0</td>\n",
              "      <td>0</td>\n",
              "      <td>1</td>\n",
              "      <td>0</td>\n",
              "      <td>0</td>\n",
              "      <td>0</td>\n",
              "      <td>2</td>\n",
              "      <td>2</td>\n",
              "      <td>1</td>\n",
              "      <td>1</td>\n",
              "      <td>0</td>\n",
              "      <td>0</td>\n",
              "      <td>1</td>\n",
              "      <td>2</td>\n",
              "      <td>1</td>\n",
              "      <td>1</td>\n",
              "      <td>2</td>\n",
              "      <td>1</td>\n",
              "      <td>1</td>\n",
              "      <td>1</td>\n",
              "      <td>2</td>\n",
              "      <td>1</td>\n",
              "      <td>3</td>\n",
              "      <td>1</td>\n",
              "      <td>2</td>\n",
              "      <td>1</td>\n",
              "      <td>0</td>\n",
              "      <td>0</td>\n",
              "      <td>1</td>\n",
              "      <td>1</td>\n",
              "      <td>1</td>\n",
              "      <td>1</td>\n",
              "      <td>2</td>\n",
              "      <td>2</td>\n",
              "      <td>1234.0</td>\n",
              "      <td>1234.0</td>\n",
              "      <td>680.0</td>\n",
              "      <td>154.0</td>\n",
              "      <td>153.0</td>\n",
              "      <td>86.0</td>\n",
              "    </tr>\n",
              "    <tr>\n",
              "      <th>2</th>\n",
              "      <td>1.302700e+06</td>\n",
              "      <td>1.341449e+06</td>\n",
              "      <td>1.240085e+06</td>\n",
              "      <td>1.341449e+06</td>\n",
              "      <td>1.477503e+06</td>\n",
              "      <td>1.477503e+06</td>\n",
              "      <td>3.904086e+05</td>\n",
              "      <td>3.904086e+05</td>\n",
              "      <td>4.979106e+05</td>\n",
              "      <td>4.979106e+05</td>\n",
              "      <td>14.079949</td>\n",
              "      <td>14.205864</td>\n",
              "      <td>14.205864</td>\n",
              "      <td>14.109261</td>\n",
              "      <td>1.081739</td>\n",
              "      <td>0.943850</td>\n",
              "      <td>0.291035</td>\n",
              "      <td>0.336995</td>\n",
              "      <td>0.291035</td>\n",
              "      <td>0.336995</td>\n",
              "      <td>-0.108229</td>\n",
              "      <td>-0.095389</td>\n",
              "      <td>-0.053413</td>\n",
              "      <td>2</td>\n",
              "      <td>2</td>\n",
              "      <td>2</td>\n",
              "      <td>3</td>\n",
              "      <td>1</td>\n",
              "      <td>0</td>\n",
              "      <td>1</td>\n",
              "      <td>6</td>\n",
              "      <td>-0.613333</td>\n",
              "      <td>-0.613333</td>\n",
              "      <td>1</td>\n",
              "      <td>4</td>\n",
              "      <td>1</td>\n",
              "      <td>4</td>\n",
              "      <td>1</td>\n",
              "      <td>2</td>\n",
              "      <td>1</td>\n",
              "      <td>...</td>\n",
              "      <td>0</td>\n",
              "      <td>0</td>\n",
              "      <td>0</td>\n",
              "      <td>0</td>\n",
              "      <td>0</td>\n",
              "      <td>0</td>\n",
              "      <td>0</td>\n",
              "      <td>0</td>\n",
              "      <td>1</td>\n",
              "      <td>0</td>\n",
              "      <td>2</td>\n",
              "      <td>1</td>\n",
              "      <td>0</td>\n",
              "      <td>1</td>\n",
              "      <td>0</td>\n",
              "      <td>0</td>\n",
              "      <td>0</td>\n",
              "      <td>0</td>\n",
              "      <td>2</td>\n",
              "      <td>1</td>\n",
              "      <td>2</td>\n",
              "      <td>1</td>\n",
              "      <td>0</td>\n",
              "      <td>0</td>\n",
              "      <td>0</td>\n",
              "      <td>0</td>\n",
              "      <td>0</td>\n",
              "      <td>0</td>\n",
              "      <td>0</td>\n",
              "      <td>0</td>\n",
              "      <td>0</td>\n",
              "      <td>0</td>\n",
              "      <td>0</td>\n",
              "      <td>0</td>\n",
              "      <td>33.0</td>\n",
              "      <td>24.0</td>\n",
              "      <td>19.0</td>\n",
              "      <td>3.0</td>\n",
              "      <td>1.0</td>\n",
              "      <td>1.0</td>\n",
              "    </tr>\n",
              "    <tr>\n",
              "      <th>3</th>\n",
              "      <td>1.932258e+05</td>\n",
              "      <td>1.454433e+05</td>\n",
              "      <td>1.929148e+05</td>\n",
              "      <td>1.454433e+05</td>\n",
              "      <td>1.318250e+04</td>\n",
              "      <td>1.318250e+04</td>\n",
              "      <td>8.650108e+04</td>\n",
              "      <td>8.650108e+04</td>\n",
              "      <td>5.896693e+03</td>\n",
              "      <td>5.896693e+03</td>\n",
              "      <td>12.171615</td>\n",
              "      <td>9.486645</td>\n",
              "      <td>9.486645</td>\n",
              "      <td>11.887541</td>\n",
              "      <td>0.753925</td>\n",
              "      <td>1.978542</td>\n",
              "      <td>0.594741</td>\n",
              "      <td>0.447312</td>\n",
              "      <td>0.594741</td>\n",
              "      <td>0.447312</td>\n",
              "      <td>0.441902</td>\n",
              "      <td>0.383241</td>\n",
              "      <td>0.681768</td>\n",
              "      <td>4</td>\n",
              "      <td>4</td>\n",
              "      <td>5</td>\n",
              "      <td>5</td>\n",
              "      <td>5</td>\n",
              "      <td>0</td>\n",
              "      <td>1</td>\n",
              "      <td>6</td>\n",
              "      <td>28.863333</td>\n",
              "      <td>28.863333</td>\n",
              "      <td>3</td>\n",
              "      <td>2</td>\n",
              "      <td>3</td>\n",
              "      <td>2</td>\n",
              "      <td>3</td>\n",
              "      <td>1</td>\n",
              "      <td>2</td>\n",
              "      <td>...</td>\n",
              "      <td>0</td>\n",
              "      <td>0</td>\n",
              "      <td>0</td>\n",
              "      <td>0</td>\n",
              "      <td>0</td>\n",
              "      <td>0</td>\n",
              "      <td>0</td>\n",
              "      <td>0</td>\n",
              "      <td>0</td>\n",
              "      <td>0</td>\n",
              "      <td>0</td>\n",
              "      <td>0</td>\n",
              "      <td>0</td>\n",
              "      <td>1</td>\n",
              "      <td>0</td>\n",
              "      <td>0</td>\n",
              "      <td>0</td>\n",
              "      <td>0</td>\n",
              "      <td>0</td>\n",
              "      <td>0</td>\n",
              "      <td>0</td>\n",
              "      <td>0</td>\n",
              "      <td>0</td>\n",
              "      <td>0</td>\n",
              "      <td>0</td>\n",
              "      <td>0</td>\n",
              "      <td>0</td>\n",
              "      <td>0</td>\n",
              "      <td>0</td>\n",
              "      <td>0</td>\n",
              "      <td>0</td>\n",
              "      <td>0</td>\n",
              "      <td>0</td>\n",
              "      <td>0</td>\n",
              "      <td>8.0</td>\n",
              "      <td>8.0</td>\n",
              "      <td>3.0</td>\n",
              "      <td>7.0</td>\n",
              "      <td>7.0</td>\n",
              "      <td>3.0</td>\n",
              "    </tr>\n",
              "    <tr>\n",
              "      <th>4</th>\n",
              "      <td>3.913385e+05</td>\n",
              "      <td>1.987337e+05</td>\n",
              "      <td>1.703432e+05</td>\n",
              "      <td>1.987337e+05</td>\n",
              "      <td>3.046536e+05</td>\n",
              "      <td>3.046536e+05</td>\n",
              "      <td>2.528307e+05</td>\n",
              "      <td>2.528307e+05</td>\n",
              "      <td>3.034449e+05</td>\n",
              "      <td>3.034449e+05</td>\n",
              "      <td>12.877328</td>\n",
              "      <td>12.626931</td>\n",
              "      <td>12.626931</td>\n",
              "      <td>12.199721</td>\n",
              "      <td>1.166667</td>\n",
              "      <td>63.849949</td>\n",
              "      <td>1.272208</td>\n",
              "      <td>0.996032</td>\n",
              "      <td>1.272208</td>\n",
              "      <td>0.996032</td>\n",
              "      <td>0.507021</td>\n",
              "      <td>0.539030</td>\n",
              "      <td>0.742665</td>\n",
              "      <td>1</td>\n",
              "      <td>1</td>\n",
              "      <td>1</td>\n",
              "      <td>1</td>\n",
              "      <td>1</td>\n",
              "      <td>0</td>\n",
              "      <td>1</td>\n",
              "      <td>6</td>\n",
              "      <td>363.116667</td>\n",
              "      <td>363.116667</td>\n",
              "      <td>5</td>\n",
              "      <td>0</td>\n",
              "      <td>4</td>\n",
              "      <td>0</td>\n",
              "      <td>3</td>\n",
              "      <td>0</td>\n",
              "      <td>3</td>\n",
              "      <td>...</td>\n",
              "      <td>0</td>\n",
              "      <td>0</td>\n",
              "      <td>0</td>\n",
              "      <td>0</td>\n",
              "      <td>0</td>\n",
              "      <td>0</td>\n",
              "      <td>0</td>\n",
              "      <td>0</td>\n",
              "      <td>0</td>\n",
              "      <td>0</td>\n",
              "      <td>0</td>\n",
              "      <td>0</td>\n",
              "      <td>0</td>\n",
              "      <td>0</td>\n",
              "      <td>0</td>\n",
              "      <td>0</td>\n",
              "      <td>0</td>\n",
              "      <td>0</td>\n",
              "      <td>0</td>\n",
              "      <td>0</td>\n",
              "      <td>0</td>\n",
              "      <td>0</td>\n",
              "      <td>0</td>\n",
              "      <td>0</td>\n",
              "      <td>0</td>\n",
              "      <td>0</td>\n",
              "      <td>0</td>\n",
              "      <td>0</td>\n",
              "      <td>0</td>\n",
              "      <td>0</td>\n",
              "      <td>0</td>\n",
              "      <td>0</td>\n",
              "      <td>0</td>\n",
              "      <td>0</td>\n",
              "      <td>7.0</td>\n",
              "      <td>7.0</td>\n",
              "      <td>7.0</td>\n",
              "      <td>6.0</td>\n",
              "      <td>6.0</td>\n",
              "      <td>5.0</td>\n",
              "    </tr>\n",
              "  </tbody>\n",
              "</table>\n",
              "<p>5 rows × 2164 columns</p>\n",
              "</div>"
            ],
            "text/plain": [
              "           Col3          Col4          Col5  ...  Col2395  Col2396  Col2397\n",
              "0  8.167140e+04  8.614542e+04  7.532296e+04  ...     41.0     41.0     36.0\n",
              "1 -1.362824e+07 -4.493043e+06 -3.777257e+06  ...    154.0    153.0     86.0\n",
              "2  1.302700e+06  1.341449e+06  1.240085e+06  ...      3.0      1.0      1.0\n",
              "3  1.932258e+05  1.454433e+05  1.929148e+05  ...      7.0      7.0      3.0\n",
              "4  3.913385e+05  1.987337e+05  1.703432e+05  ...      6.0      6.0      5.0\n",
              "\n",
              "[5 rows x 2164 columns]"
            ]
          },
          "metadata": {
            "tags": []
          },
          "execution_count": 52
        }
      ]
    },
    {
      "cell_type": "code",
      "metadata": {
        "id": "ihslujN_c-yB",
        "colab_type": "code",
        "colab": {}
      },
      "source": [
        "X_test = imp.transform(df2)"
      ],
      "execution_count": 0,
      "outputs": []
    },
    {
      "cell_type": "code",
      "metadata": {
        "id": "X-4KoGYCeEFI",
        "colab_type": "code",
        "outputId": "d2aeb71d-dd50-4159-f87f-6aac6f47bfdc",
        "colab": {
          "base_uri": "https://localhost:8080/",
          "height": 238
        }
      },
      "source": [
        "X_test"
      ],
      "execution_count": 0,
      "outputs": [
        {
          "output_type": "execute_result",
          "data": {
            "text/plain": [
              "array([[ 8.16713967e+04,  8.61454200e+04,  7.53229617e+04, ...,\n",
              "         4.10000000e+01,  4.10000000e+01,  3.60000000e+01],\n",
              "       [-1.36282436e+07, -4.49304278e+06, -3.77725669e+06, ...,\n",
              "         1.54000000e+02,  1.53000000e+02,  8.60000000e+01],\n",
              "       [ 1.30269983e+06,  1.34144892e+06,  1.24008518e+06, ...,\n",
              "         3.00000000e+00,  1.00000000e+00,  1.00000000e+00],\n",
              "       ...,\n",
              "       [ 1.75557957e+05,  1.40645728e+05,  1.12583248e+05, ...,\n",
              "         1.00000000e+01,  1.00000000e+01,  5.00000000e+00],\n",
              "       [ 6.80664267e+04,  6.33805820e+04,  6.41364200e+04, ...,\n",
              "         9.00000000e+00,  9.00000000e+00,  3.00000000e+00],\n",
              "       [-6.76663972e+07, -6.41644852e+07, -2.95196194e+07, ...,\n",
              "         8.50000000e+01,  8.50000000e+01,  7.20000000e+01]])"
            ]
          },
          "metadata": {
            "tags": []
          },
          "execution_count": 54
        }
      ]
    },
    {
      "cell_type": "code",
      "metadata": {
        "id": "p8C_TNBWc_Zj",
        "colab_type": "code",
        "colab": {}
      },
      "source": [
        "pred = clf.predict(X_test)"
      ],
      "execution_count": 0,
      "outputs": []
    },
    {
      "cell_type": "code",
      "metadata": {
        "id": "6I6Tpr2Vc-o-",
        "colab_type": "code",
        "colab": {}
      },
      "source": [
        "res = pd.DataFrame({'Col1': data2['Col1'], 'Col2': pred})"
      ],
      "execution_count": 0,
      "outputs": []
    },
    {
      "cell_type": "code",
      "metadata": {
        "id": "MsQcJbgKeyv_",
        "colab_type": "code",
        "outputId": "8a8a64a8-663e-44e7-b44c-c75fd4a30d04",
        "colab": {
          "base_uri": "https://localhost:8080/",
          "height": 68
        }
      },
      "source": [
        "res.Col2.value_counts()"
      ],
      "execution_count": 0,
      "outputs": [
        {
          "output_type": "execute_result",
          "data": {
            "text/plain": [
              "0    20430\n",
              "1       12\n",
              "Name: Col2, dtype: int64"
            ]
          },
          "metadata": {
            "tags": []
          },
          "execution_count": 57
        }
      ]
    },
    {
      "cell_type": "code",
      "metadata": {
        "id": "HFMthF96fMRI",
        "colab_type": "code",
        "colab": {}
      },
      "source": [
        "from google.colab import files\n",
        "res.to_csv('res.csv')\n",
        "files.download(\"res.csv\")"
      ],
      "execution_count": 0,
      "outputs": []
    },
    {
      "cell_type": "code",
      "metadata": {
        "id": "wcowDsiuP5HE",
        "colab_type": "code",
        "colab": {}
      },
      "source": [
        ""
      ],
      "execution_count": 0,
      "outputs": []
    }
  ]
}